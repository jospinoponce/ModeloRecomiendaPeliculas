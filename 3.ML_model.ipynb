{
 "cells": [
  {
   "cell_type": "code",
   "execution_count": 1,
   "metadata": {},
   "outputs": [],
   "source": [
    "import pandas as pd\n",
    "import numpy as np\n",
    "import seaborn as sns\n",
    "import matplotlib.pyplot as plt\n",
    "from surprise import Dataset, Reader, SVD\n",
    "from surprise.model_selection import train_test_split"
   ]
  },
  {
   "cell_type": "code",
   "execution_count": 2,
   "metadata": {},
   "outputs": [],
   "source": [
    "pd.options.mode.chained_assignment = None # desactivar pandas warnings"
   ]
  },
  {
   "cell_type": "code",
   "execution_count": 3,
   "metadata": {},
   "outputs": [],
   "source": [
    "# se importan los datasets\n",
    "\n",
    "df_1=pd.read_parquet(\"Datasets/df_1.parquet\")\n",
    "df=pd.read_csv(\"Datasets/df.csv\")"
   ]
  },
  {
   "cell_type": "markdown",
   "metadata": {},
   "source": [
    "## Datasets"
   ]
  },
  {
   "cell_type": "code",
   "execution_count": 4,
   "metadata": {},
   "outputs": [
    {
     "data": {
      "text/html": [
       "<div>\n",
       "<style scoped>\n",
       "    .dataframe tbody tr th:only-of-type {\n",
       "        vertical-align: middle;\n",
       "    }\n",
       "\n",
       "    .dataframe tbody tr th {\n",
       "        vertical-align: top;\n",
       "    }\n",
       "\n",
       "    .dataframe thead th {\n",
       "        text-align: right;\n",
       "    }\n",
       "</style>\n",
       "<table border=\"1\" class=\"dataframe\">\n",
       "  <thead>\n",
       "    <tr style=\"text-align: right;\">\n",
       "      <th></th>\n",
       "      <th>id</th>\n",
       "      <th>show_id</th>\n",
       "      <th>type</th>\n",
       "      <th>title</th>\n",
       "      <th>director</th>\n",
       "      <th>cast</th>\n",
       "      <th>country</th>\n",
       "      <th>date_added</th>\n",
       "      <th>release_year</th>\n",
       "      <th>rating</th>\n",
       "      <th>listed_in</th>\n",
       "      <th>description</th>\n",
       "      <th>plataforma</th>\n",
       "      <th>duration_int</th>\n",
       "      <th>duration_type</th>\n",
       "    </tr>\n",
       "  </thead>\n",
       "  <tbody>\n",
       "    <tr>\n",
       "      <th>0</th>\n",
       "      <td>as1</td>\n",
       "      <td>s1</td>\n",
       "      <td>movie</td>\n",
       "      <td>the grand seduction</td>\n",
       "      <td>don mckellar</td>\n",
       "      <td>brendan gleeson, taylor kitsch, gordon pinsent</td>\n",
       "      <td>canada</td>\n",
       "      <td>2021-03-30</td>\n",
       "      <td>2014</td>\n",
       "      <td>r</td>\n",
       "      <td>comedy</td>\n",
       "      <td>a small fishing village must procure a local d...</td>\n",
       "      <td>amazon</td>\n",
       "      <td>113.0</td>\n",
       "      <td>min</td>\n",
       "    </tr>\n",
       "    <tr>\n",
       "      <th>1</th>\n",
       "      <td>as2</td>\n",
       "      <td>s2</td>\n",
       "      <td>movie</td>\n",
       "      <td>take care good night</td>\n",
       "      <td>girish joshi</td>\n",
       "      <td>mahesh manjrekar, abhay mahajan, sachin khedekar</td>\n",
       "      <td>india</td>\n",
       "      <td>2021-03-30</td>\n",
       "      <td>2018</td>\n",
       "      <td>13+</td>\n",
       "      <td>tv shows</td>\n",
       "      <td>a metro family decides to fight a cyber crimin...</td>\n",
       "      <td>amazon</td>\n",
       "      <td>110.0</td>\n",
       "      <td>min</td>\n",
       "    </tr>\n",
       "  </tbody>\n",
       "</table>\n",
       "</div>"
      ],
      "text/plain": [
       "    id show_id   type                 title      director  \\\n",
       "0  as1      s1  movie   the grand seduction  don mckellar   \n",
       "1  as2      s2  movie  take care good night  girish joshi   \n",
       "\n",
       "                                               cast country  date_added  \\\n",
       "0    brendan gleeson, taylor kitsch, gordon pinsent  canada  2021-03-30   \n",
       "1  mahesh manjrekar, abhay mahajan, sachin khedekar   india  2021-03-30   \n",
       "\n",
       "   release_year rating listed_in  \\\n",
       "0          2014      r    comedy   \n",
       "1          2018    13+  tv shows   \n",
       "\n",
       "                                         description plataforma  duration_int  \\\n",
       "0  a small fishing village must procure a local d...     amazon         113.0   \n",
       "1  a metro family decides to fight a cyber crimin...     amazon         110.0   \n",
       "\n",
       "  duration_type  \n",
       "0           min  \n",
       "1           min  "
      ]
     },
     "execution_count": 4,
     "metadata": {},
     "output_type": "execute_result"
    }
   ],
   "source": [
    "# Datasets de las plataformas\n",
    "df.head(2)"
   ]
  },
  {
   "cell_type": "code",
   "execution_count": 5,
   "metadata": {},
   "outputs": [
    {
     "data": {
      "text/html": [
       "<div>\n",
       "<style scoped>\n",
       "    .dataframe tbody tr th:only-of-type {\n",
       "        vertical-align: middle;\n",
       "    }\n",
       "\n",
       "    .dataframe tbody tr th {\n",
       "        vertical-align: top;\n",
       "    }\n",
       "\n",
       "    .dataframe thead th {\n",
       "        text-align: right;\n",
       "    }\n",
       "</style>\n",
       "<table border=\"1\" class=\"dataframe\">\n",
       "  <thead>\n",
       "    <tr style=\"text-align: right;\">\n",
       "      <th></th>\n",
       "      <th>id</th>\n",
       "      <th>title</th>\n",
       "    </tr>\n",
       "  </thead>\n",
       "  <tbody>\n",
       "    <tr>\n",
       "      <th>0</th>\n",
       "      <td>as1</td>\n",
       "      <td>the grand seduction</td>\n",
       "    </tr>\n",
       "    <tr>\n",
       "      <th>1</th>\n",
       "      <td>as2</td>\n",
       "      <td>take care good night</td>\n",
       "    </tr>\n",
       "    <tr>\n",
       "      <th>2</th>\n",
       "      <td>as3</td>\n",
       "      <td>secrets of deception</td>\n",
       "    </tr>\n",
       "    <tr>\n",
       "      <th>3</th>\n",
       "      <td>as4</td>\n",
       "      <td>pink: staying true</td>\n",
       "    </tr>\n",
       "    <tr>\n",
       "      <th>4</th>\n",
       "      <td>as5</td>\n",
       "      <td>monster maker</td>\n",
       "    </tr>\n",
       "    <tr>\n",
       "      <th>...</th>\n",
       "      <td>...</td>\n",
       "      <td>...</td>\n",
       "    </tr>\n",
       "    <tr>\n",
       "      <th>22993</th>\n",
       "      <td>hs3069</td>\n",
       "      <td>star trek: the original series</td>\n",
       "    </tr>\n",
       "    <tr>\n",
       "      <th>22994</th>\n",
       "      <td>hs3070</td>\n",
       "      <td>star trek: voyager</td>\n",
       "    </tr>\n",
       "    <tr>\n",
       "      <th>22995</th>\n",
       "      <td>hs3071</td>\n",
       "      <td>the fades</td>\n",
       "    </tr>\n",
       "    <tr>\n",
       "      <th>22996</th>\n",
       "      <td>hs3072</td>\n",
       "      <td>the twilight zone</td>\n",
       "    </tr>\n",
       "    <tr>\n",
       "      <th>22997</th>\n",
       "      <td>hs3073</td>\n",
       "      <td>tokyo magnitude 8.0</td>\n",
       "    </tr>\n",
       "  </tbody>\n",
       "</table>\n",
       "<p>22998 rows × 2 columns</p>\n",
       "</div>"
      ],
      "text/plain": [
       "           id                           title\n",
       "0         as1             the grand seduction\n",
       "1         as2            take care good night\n",
       "2         as3            secrets of deception\n",
       "3         as4              pink: staying true\n",
       "4         as5                   monster maker\n",
       "...       ...                             ...\n",
       "22993  hs3069  star trek: the original series\n",
       "22994  hs3070              star trek: voyager\n",
       "22995  hs3071                       the fades\n",
       "22996  hs3072               the twilight zone\n",
       "22997  hs3073             tokyo magnitude 8.0\n",
       "\n",
       "[22998 rows x 2 columns]"
      ]
     },
     "execution_count": 5,
     "metadata": {},
     "output_type": "execute_result"
    }
   ],
   "source": [
    "df=df[['id', 'title']]\n",
    "df"
   ]
  },
  {
   "cell_type": "code",
   "execution_count": 6,
   "metadata": {},
   "outputs": [
    {
     "data": {
      "text/html": [
       "<div>\n",
       "<style scoped>\n",
       "    .dataframe tbody tr th:only-of-type {\n",
       "        vertical-align: middle;\n",
       "    }\n",
       "\n",
       "    .dataframe tbody tr th {\n",
       "        vertical-align: top;\n",
       "    }\n",
       "\n",
       "    .dataframe thead th {\n",
       "        text-align: right;\n",
       "    }\n",
       "</style>\n",
       "<table border=\"1\" class=\"dataframe\">\n",
       "  <thead>\n",
       "    <tr style=\"text-align: right;\">\n",
       "      <th></th>\n",
       "      <th>user</th>\n",
       "      <th>score</th>\n",
       "      <th>id</th>\n",
       "      <th>plataforma</th>\n",
       "      <th>year_scored</th>\n",
       "    </tr>\n",
       "  </thead>\n",
       "  <tbody>\n",
       "    <tr>\n",
       "      <th>0</th>\n",
       "      <td>1</td>\n",
       "      <td>1.0</td>\n",
       "      <td>as680</td>\n",
       "      <td>amazon</td>\n",
       "      <td>2015</td>\n",
       "    </tr>\n",
       "    <tr>\n",
       "      <th>1</th>\n",
       "      <td>1</td>\n",
       "      <td>4.5</td>\n",
       "      <td>ns2186</td>\n",
       "      <td>netflix</td>\n",
       "      <td>2015</td>\n",
       "    </tr>\n",
       "    <tr>\n",
       "      <th>2</th>\n",
       "      <td>1</td>\n",
       "      <td>5.0</td>\n",
       "      <td>hs2381</td>\n",
       "      <td>hulu</td>\n",
       "      <td>2015</td>\n",
       "    </tr>\n",
       "    <tr>\n",
       "      <th>3</th>\n",
       "      <td>1</td>\n",
       "      <td>5.0</td>\n",
       "      <td>ns3663</td>\n",
       "      <td>netflix</td>\n",
       "      <td>2015</td>\n",
       "    </tr>\n",
       "  </tbody>\n",
       "</table>\n",
       "</div>"
      ],
      "text/plain": [
       "   user  score      id plataforma  year_scored\n",
       "0     1    1.0   as680     amazon         2015\n",
       "1     1    4.5  ns2186    netflix         2015\n",
       "2     1    5.0  hs2381       hulu         2015\n",
       "3     1    5.0  ns3663    netflix         2015"
      ]
     },
     "execution_count": 6,
     "metadata": {},
     "output_type": "execute_result"
    }
   ],
   "source": [
    "# Dataset de los scores a las peliculas/series \n",
    "\n",
    "df_1.head(4)"
   ]
  },
  {
   "cell_type": "code",
   "execution_count": 7,
   "metadata": {},
   "outputs": [
    {
     "data": {
      "text/html": [
       "<div>\n",
       "<style scoped>\n",
       "    .dataframe tbody tr th:only-of-type {\n",
       "        vertical-align: middle;\n",
       "    }\n",
       "\n",
       "    .dataframe tbody tr th {\n",
       "        vertical-align: top;\n",
       "    }\n",
       "\n",
       "    .dataframe thead th {\n",
       "        text-align: right;\n",
       "    }\n",
       "</style>\n",
       "<table border=\"1\" class=\"dataframe\">\n",
       "  <thead>\n",
       "    <tr style=\"text-align: right;\">\n",
       "      <th></th>\n",
       "      <th>user</th>\n",
       "      <th>id</th>\n",
       "      <th>score</th>\n",
       "    </tr>\n",
       "  </thead>\n",
       "  <tbody>\n",
       "    <tr>\n",
       "      <th>0</th>\n",
       "      <td>1</td>\n",
       "      <td>as680</td>\n",
       "      <td>1.0</td>\n",
       "    </tr>\n",
       "    <tr>\n",
       "      <th>1</th>\n",
       "      <td>1</td>\n",
       "      <td>ns2186</td>\n",
       "      <td>4.5</td>\n",
       "    </tr>\n",
       "    <tr>\n",
       "      <th>2</th>\n",
       "      <td>1</td>\n",
       "      <td>hs2381</td>\n",
       "      <td>5.0</td>\n",
       "    </tr>\n",
       "    <tr>\n",
       "      <th>3</th>\n",
       "      <td>1</td>\n",
       "      <td>ns3663</td>\n",
       "      <td>5.0</td>\n",
       "    </tr>\n",
       "    <tr>\n",
       "      <th>4</th>\n",
       "      <td>1</td>\n",
       "      <td>as9500</td>\n",
       "      <td>5.0</td>\n",
       "    </tr>\n",
       "    <tr>\n",
       "      <th>...</th>\n",
       "      <td>...</td>\n",
       "      <td>...</td>\n",
       "      <td>...</td>\n",
       "    </tr>\n",
       "    <tr>\n",
       "      <th>11024284</th>\n",
       "      <td>124380</td>\n",
       "      <td>ns5272</td>\n",
       "      <td>4.5</td>\n",
       "    </tr>\n",
       "    <tr>\n",
       "      <th>11024285</th>\n",
       "      <td>124380</td>\n",
       "      <td>ns5492</td>\n",
       "      <td>2.5</td>\n",
       "    </tr>\n",
       "    <tr>\n",
       "      <th>11024286</th>\n",
       "      <td>124380</td>\n",
       "      <td>hs305</td>\n",
       "      <td>3.5</td>\n",
       "    </tr>\n",
       "    <tr>\n",
       "      <th>11024287</th>\n",
       "      <td>124380</td>\n",
       "      <td>ns7881</td>\n",
       "      <td>4.5</td>\n",
       "    </tr>\n",
       "    <tr>\n",
       "      <th>11024288</th>\n",
       "      <td>124380</td>\n",
       "      <td>as883</td>\n",
       "      <td>1.5</td>\n",
       "    </tr>\n",
       "  </tbody>\n",
       "</table>\n",
       "<p>11005757 rows × 3 columns</p>\n",
       "</div>"
      ],
      "text/plain": [
       "            user      id  score\n",
       "0              1   as680    1.0\n",
       "1              1  ns2186    4.5\n",
       "2              1  hs2381    5.0\n",
       "3              1  ns3663    5.0\n",
       "4              1  as9500    5.0\n",
       "...          ...     ...    ...\n",
       "11024284  124380  ns5272    4.5\n",
       "11024285  124380  ns5492    2.5\n",
       "11024286  124380   hs305    3.5\n",
       "11024287  124380  ns7881    4.5\n",
       "11024288  124380   as883    1.5\n",
       "\n",
       "[11005757 rows x 3 columns]"
      ]
     },
     "execution_count": 7,
     "metadata": {},
     "output_type": "execute_result"
    }
   ],
   "source": [
    "# Se elimina la variable 'year_scored' del dataframe\n",
    "\n",
    "df_1=df_1[['user', 'id', 'score']]\n",
    "df_1"
   ]
  },
  {
   "cell_type": "markdown",
   "metadata": {},
   "source": [
    "## Modelo"
   ]
  },
  {
   "cell_type": "markdown",
   "metadata": {},
   "source": [
    "Se lee y analiza el conjuntos de datos de las calificaciones. La escala de calificación se establece en un mínimo de 0.5 y un máximo de 5, con incrementos de 0.5 unidades.<br>\n",
    "Por el tamaño del dataset, se genera un umbral. "
   ]
  },
  {
   "cell_type": "code",
   "execution_count": 8,
   "metadata": {},
   "outputs": [],
   "source": [
    "# Se modela df_1 con el total de los valores de score. \n",
    "# Se establece un limite de 100000 datos para df_1. \n",
    "\n",
    "lim = 100000 \n",
    "\n",
    "reader = Reader(rating_scale=(0.5,5))\n",
    "\n",
    "data = Dataset.load_from_df(df_1[:lim], reader)"
   ]
  },
  {
   "cell_type": "code",
   "execution_count": 9,
   "metadata": {},
   "outputs": [],
   "source": [
    "# se separa los datos\n",
    "\n",
    "trainset, testset = train_test_split(data, test_size=0.25)"
   ]
  },
  {
   "cell_type": "code",
   "execution_count": 10,
   "metadata": {},
   "outputs": [
    {
     "data": {
      "text/plain": [
       "<surprise.prediction_algorithms.matrix_factorization.SVD at 0x1e86d9f5af0>"
      ]
     },
     "execution_count": 10,
     "metadata": {},
     "output_type": "execute_result"
    }
   ],
   "source": [
    "# Se instancia y se entrena el modelo SVD \n",
    "\n",
    "modelo_svd = SVD()\n",
    "\n",
    "# Se entrena el modelo\n",
    "\n",
    "modelo_svd.fit(trainset)"
   ]
  },
  {
   "cell_type": "code",
   "execution_count": 11,
   "metadata": {},
   "outputs": [],
   "source": [
    "# Se realiza una predicción con los datos testeados\n",
    "\n",
    "predic = modelo_svd.test(testset)"
   ]
  },
  {
   "cell_type": "markdown",
   "metadata": {},
   "source": [
    "## Predicción a usuario"
   ]
  },
  {
   "cell_type": "code",
   "execution_count": 12,
   "metadata": {},
   "outputs": [
    {
     "name": "stdout",
     "output_type": "stream",
     "text": [
      "user: 66258      item: ds1370     r_ui = 4.00   est = 3.53   {'was_impossible': False}\n"
     ]
    },
    {
     "data": {
      "text/plain": [
       "Prediction(uid='66258', iid='ds1370', r_ui=4, est=3.530246913275251, details={'was_impossible': False})"
      ]
     },
     "execution_count": 12,
     "metadata": {},
     "output_type": "execute_result"
    }
   ],
   "source": [
    "# Se realiza una predicción a un id y un score determinado\n",
    "\n",
    "user_id = '66258'\n",
    "movie_id = 'ds1370'\n",
    "r_ui = 4\n",
    "modelo_svd.predict(user_id, movie_id, r_ui=r_ui, verbose=True)"
   ]
  },
  {
   "cell_type": "code",
   "execution_count": 13,
   "metadata": {},
   "outputs": [
    {
     "data": {
      "text/html": [
       "<div>\n",
       "<style scoped>\n",
       "    .dataframe tbody tr th:only-of-type {\n",
       "        vertical-align: middle;\n",
       "    }\n",
       "\n",
       "    .dataframe tbody tr th {\n",
       "        vertical-align: top;\n",
       "    }\n",
       "\n",
       "    .dataframe thead th {\n",
       "        text-align: right;\n",
       "    }\n",
       "</style>\n",
       "<table border=\"1\" class=\"dataframe\">\n",
       "  <thead>\n",
       "    <tr style=\"text-align: right;\">\n",
       "      <th></th>\n",
       "      <th>user</th>\n",
       "      <th>id</th>\n",
       "      <th>score</th>\n",
       "    </tr>\n",
       "  </thead>\n",
       "  <tbody>\n",
       "    <tr>\n",
       "      <th>3813805</th>\n",
       "      <td>39742</td>\n",
       "      <td>as1926</td>\n",
       "      <td>5.0</td>\n",
       "    </tr>\n",
       "  </tbody>\n",
       "</table>\n",
       "</div>"
      ],
      "text/plain": [
       "          user      id  score\n",
       "3813805  39742  as1926    5.0"
      ]
     },
     "execution_count": 13,
     "metadata": {},
     "output_type": "execute_result"
    }
   ],
   "source": [
    "# Se toma un usuario aleatorio para hacerle una recomendación\n",
    "\n",
    "user_azar=df_1.sample(1)\n",
    "user_azar"
   ]
  },
  {
   "cell_type": "code",
   "execution_count": 14,
   "metadata": {},
   "outputs": [
    {
     "data": {
      "text/html": [
       "<div>\n",
       "<style scoped>\n",
       "    .dataframe tbody tr th:only-of-type {\n",
       "        vertical-align: middle;\n",
       "    }\n",
       "\n",
       "    .dataframe tbody tr th {\n",
       "        vertical-align: top;\n",
       "    }\n",
       "\n",
       "    .dataframe thead th {\n",
       "        text-align: right;\n",
       "    }\n",
       "</style>\n",
       "<table border=\"1\" class=\"dataframe\">\n",
       "  <thead>\n",
       "    <tr style=\"text-align: right;\">\n",
       "      <th></th>\n",
       "      <th>user</th>\n",
       "      <th>id</th>\n",
       "      <th>score</th>\n",
       "    </tr>\n",
       "  </thead>\n",
       "  <tbody>\n",
       "    <tr>\n",
       "      <th>0</th>\n",
       "      <td>12455</td>\n",
       "      <td>hs2245</td>\n",
       "      <td>4.5</td>\n",
       "    </tr>\n",
       "    <tr>\n",
       "      <th>1</th>\n",
       "      <td>12455</td>\n",
       "      <td>as8452</td>\n",
       "      <td>4.5</td>\n",
       "    </tr>\n",
       "    <tr>\n",
       "      <th>2</th>\n",
       "      <td>12455</td>\n",
       "      <td>ns2942</td>\n",
       "      <td>4.0</td>\n",
       "    </tr>\n",
       "    <tr>\n",
       "      <th>3</th>\n",
       "      <td>12455</td>\n",
       "      <td>ns4141</td>\n",
       "      <td>5.0</td>\n",
       "    </tr>\n",
       "    <tr>\n",
       "      <th>4</th>\n",
       "      <td>12455</td>\n",
       "      <td>as1382</td>\n",
       "      <td>4.5</td>\n",
       "    </tr>\n",
       "    <tr>\n",
       "      <th>...</th>\n",
       "      <td>...</td>\n",
       "      <td>...</td>\n",
       "      <td>...</td>\n",
       "    </tr>\n",
       "    <tr>\n",
       "      <th>119</th>\n",
       "      <td>12455</td>\n",
       "      <td>as1274</td>\n",
       "      <td>5.0</td>\n",
       "    </tr>\n",
       "    <tr>\n",
       "      <th>120</th>\n",
       "      <td>12455</td>\n",
       "      <td>as8759</td>\n",
       "      <td>5.0</td>\n",
       "    </tr>\n",
       "    <tr>\n",
       "      <th>121</th>\n",
       "      <td>12455</td>\n",
       "      <td>ns4183</td>\n",
       "      <td>4.5</td>\n",
       "    </tr>\n",
       "    <tr>\n",
       "      <th>122</th>\n",
       "      <td>12455</td>\n",
       "      <td>ns1420</td>\n",
       "      <td>5.0</td>\n",
       "    </tr>\n",
       "    <tr>\n",
       "      <th>123</th>\n",
       "      <td>12455</td>\n",
       "      <td>ns1329</td>\n",
       "      <td>4.0</td>\n",
       "    </tr>\n",
       "  </tbody>\n",
       "</table>\n",
       "<p>124 rows × 3 columns</p>\n",
       "</div>"
      ],
      "text/plain": [
       "      user      id  score\n",
       "0    12455  hs2245    4.5\n",
       "1    12455  as8452    4.5\n",
       "2    12455  ns2942    4.0\n",
       "3    12455  ns4141    5.0\n",
       "4    12455  as1382    4.5\n",
       "..     ...     ...    ...\n",
       "119  12455  as1274    5.0\n",
       "120  12455  as8759    5.0\n",
       "121  12455  ns4183    4.5\n",
       "122  12455  ns1420    5.0\n",
       "123  12455  ns1329    4.0\n",
       "\n",
       "[124 rows x 3 columns]"
      ]
     },
     "execution_count": 14,
     "metadata": {},
     "output_type": "execute_result"
    }
   ],
   "source": [
    "usuario = 12455\n",
    "\n",
    "rating = 4 # Se toma  películas a las que haya calificado con 4 o 5 estrellas\n",
    "\n",
    "df_user = df_1[(df_1['user'] == usuario) & (df_1['score'] >= rating)]\n",
    "df_user = df_user.reset_index(drop=True)\n",
    "df_user"
   ]
  },
  {
   "cell_type": "code",
   "execution_count": 15,
   "metadata": {},
   "outputs": [
    {
     "name": "stdout",
     "output_type": "stream",
     "text": [
      "Las peliculas que el usuario 12455 calificó por arriba de 4 en el score a 124 películas\n"
     ]
    },
    {
     "data": {
      "text/html": [
       "<div>\n",
       "<style scoped>\n",
       "    .dataframe tbody tr th:only-of-type {\n",
       "        vertical-align: middle;\n",
       "    }\n",
       "\n",
       "    .dataframe tbody tr th {\n",
       "        vertical-align: top;\n",
       "    }\n",
       "\n",
       "    .dataframe thead th {\n",
       "        text-align: right;\n",
       "    }\n",
       "</style>\n",
       "<table border=\"1\" class=\"dataframe\">\n",
       "  <thead>\n",
       "    <tr style=\"text-align: right;\">\n",
       "      <th></th>\n",
       "      <th>user</th>\n",
       "      <th>id</th>\n",
       "      <th>score</th>\n",
       "      <th>title</th>\n",
       "    </tr>\n",
       "  </thead>\n",
       "  <tbody>\n",
       "    <tr>\n",
       "      <th>0</th>\n",
       "      <td>12455</td>\n",
       "      <td>hs2245</td>\n",
       "      <td>4.5</td>\n",
       "      <td>the act</td>\n",
       "    </tr>\n",
       "    <tr>\n",
       "      <th>1</th>\n",
       "      <td>12455</td>\n",
       "      <td>as8452</td>\n",
       "      <td>4.5</td>\n",
       "      <td>a war</td>\n",
       "    </tr>\n",
       "    <tr>\n",
       "      <th>2</th>\n",
       "      <td>12455</td>\n",
       "      <td>ns2942</td>\n",
       "      <td>4.0</td>\n",
       "      <td>locke &amp; key</td>\n",
       "    </tr>\n",
       "    <tr>\n",
       "      <th>3</th>\n",
       "      <td>12455</td>\n",
       "      <td>ns4141</td>\n",
       "      <td>5.0</td>\n",
       "      <td>lego marvel super heroes: guardians of the galaxy</td>\n",
       "    </tr>\n",
       "    <tr>\n",
       "      <th>4</th>\n",
       "      <td>12455</td>\n",
       "      <td>as1382</td>\n",
       "      <td>4.5</td>\n",
       "      <td>paradise canyon - digitally remastered</td>\n",
       "    </tr>\n",
       "    <tr>\n",
       "      <th>...</th>\n",
       "      <td>...</td>\n",
       "      <td>...</td>\n",
       "      <td>...</td>\n",
       "      <td>...</td>\n",
       "    </tr>\n",
       "    <tr>\n",
       "      <th>119</th>\n",
       "      <td>12455</td>\n",
       "      <td>as1274</td>\n",
       "      <td>5.0</td>\n",
       "      <td>power douglas</td>\n",
       "    </tr>\n",
       "    <tr>\n",
       "      <th>120</th>\n",
       "      <td>12455</td>\n",
       "      <td>as8759</td>\n",
       "      <td>5.0</td>\n",
       "      <td>act 2 - title 6</td>\n",
       "    </tr>\n",
       "    <tr>\n",
       "      <th>121</th>\n",
       "      <td>12455</td>\n",
       "      <td>ns4183</td>\n",
       "      <td>4.5</td>\n",
       "      <td>soni</td>\n",
       "    </tr>\n",
       "    <tr>\n",
       "      <th>122</th>\n",
       "      <td>12455</td>\n",
       "      <td>ns1420</td>\n",
       "      <td>5.0</td>\n",
       "      <td>last tango in halifax</td>\n",
       "    </tr>\n",
       "    <tr>\n",
       "      <th>123</th>\n",
       "      <td>12455</td>\n",
       "      <td>ns1329</td>\n",
       "      <td>4.0</td>\n",
       "      <td>crime scene: the vanishing at the cecil hotel</td>\n",
       "    </tr>\n",
       "  </tbody>\n",
       "</table>\n",
       "<p>124 rows × 4 columns</p>\n",
       "</div>"
      ],
      "text/plain": [
       "      user      id  score                                              title\n",
       "0    12455  hs2245    4.5                                            the act\n",
       "1    12455  as8452    4.5                                              a war\n",
       "2    12455  ns2942    4.0                                        locke & key\n",
       "3    12455  ns4141    5.0  lego marvel super heroes: guardians of the galaxy\n",
       "4    12455  as1382    4.5             paradise canyon - digitally remastered\n",
       "..     ...     ...    ...                                                ...\n",
       "119  12455  as1274    5.0                                      power douglas\n",
       "120  12455  as8759    5.0                                    act 2 - title 6\n",
       "121  12455  ns4183    4.5                                               soni\n",
       "122  12455  ns1420    5.0                              last tango in halifax\n",
       "123  12455  ns1329    4.0      crime scene: the vanishing at the cecil hotel\n",
       "\n",
       "[124 rows x 4 columns]"
      ]
     },
     "execution_count": 15,
     "metadata": {},
     "output_type": "execute_result"
    }
   ],
   "source": [
    "# se crea un dataframe con  el id pelicula y el titulo de df\n",
    "\n",
    "df_pelicula = df\n",
    "\n",
    "# Se une los dos dataframe por el id para ver el nombre de la id de la pelicula.\n",
    "\n",
    "df_user=pd.merge(df_user,df_pelicula,how='inner',on='id') \n",
    "\n",
    "print (f'Las peliculas que el usuario {usuario} calificó por arriba de 4 en el score a {len(df_user)} películas') \n",
    "df_user"
   ]
  },
  {
   "cell_type": "markdown",
   "metadata": {},
   "source": [
    "Se crea un sample de 5000 películas para recomendar al usuario."
   ]
  },
  {
   "cell_type": "code",
   "execution_count": 16,
   "metadata": {},
   "outputs": [
    {
     "data": {
      "text/html": [
       "<div>\n",
       "<style scoped>\n",
       "    .dataframe tbody tr th:only-of-type {\n",
       "        vertical-align: middle;\n",
       "    }\n",
       "\n",
       "    .dataframe tbody tr th {\n",
       "        vertical-align: top;\n",
       "    }\n",
       "\n",
       "    .dataframe thead th {\n",
       "        text-align: right;\n",
       "    }\n",
       "</style>\n",
       "<table border=\"1\" class=\"dataframe\">\n",
       "  <thead>\n",
       "    <tr style=\"text-align: right;\">\n",
       "      <th></th>\n",
       "      <th>id</th>\n",
       "      <th>title</th>\n",
       "    </tr>\n",
       "  </thead>\n",
       "  <tbody>\n",
       "    <tr>\n",
       "      <th>0</th>\n",
       "      <td>hs2802</td>\n",
       "      <td>bakuman</td>\n",
       "    </tr>\n",
       "    <tr>\n",
       "      <th>1</th>\n",
       "      <td>ns1404</td>\n",
       "      <td>double dad</td>\n",
       "    </tr>\n",
       "    <tr>\n",
       "      <th>2</th>\n",
       "      <td>ns602</td>\n",
       "      <td>the karate kid</td>\n",
       "    </tr>\n",
       "    <tr>\n",
       "      <th>3</th>\n",
       "      <td>ns1187</td>\n",
       "      <td>b: the beginning</td>\n",
       "    </tr>\n",
       "    <tr>\n",
       "      <th>4</th>\n",
       "      <td>ns3610</td>\n",
       "      <td>let's eat 2</td>\n",
       "    </tr>\n",
       "    <tr>\n",
       "      <th>...</th>\n",
       "      <td>...</td>\n",
       "      <td>...</td>\n",
       "    </tr>\n",
       "    <tr>\n",
       "      <th>4995</th>\n",
       "      <td>ns3929</td>\n",
       "      <td>persona</td>\n",
       "    </tr>\n",
       "    <tr>\n",
       "      <th>4996</th>\n",
       "      <td>ns538</td>\n",
       "      <td>terrace house: opening new doors</td>\n",
       "    </tr>\n",
       "    <tr>\n",
       "      <th>4997</th>\n",
       "      <td>as4187</td>\n",
       "      <td>telephone operator</td>\n",
       "    </tr>\n",
       "    <tr>\n",
       "      <th>4998</th>\n",
       "      <td>as6776</td>\n",
       "      <td>kaakum karangal</td>\n",
       "    </tr>\n",
       "    <tr>\n",
       "      <th>4999</th>\n",
       "      <td>as7538</td>\n",
       "      <td>sendero</td>\n",
       "    </tr>\n",
       "  </tbody>\n",
       "</table>\n",
       "<p>5000 rows × 2 columns</p>\n",
       "</div>"
      ],
      "text/plain": [
       "          id                             title\n",
       "0     hs2802                           bakuman\n",
       "1     ns1404                        double dad\n",
       "2      ns602                    the karate kid\n",
       "3     ns1187                  b: the beginning\n",
       "4     ns3610                       let's eat 2\n",
       "...      ...                               ...\n",
       "4995  ns3929                           persona\n",
       "4996   ns538  terrace house: opening new doors\n",
       "4997  as4187                telephone operator\n",
       "4998  as6776                   kaakum karangal\n",
       "4999  as7538                           sendero\n",
       "\n",
       "[5000 rows x 2 columns]"
      ]
     },
     "execution_count": 16,
     "metadata": {},
     "output_type": "execute_result"
    }
   ],
   "source": [
    "# Muestra de 5000 peliculas\n",
    "\n",
    "peli_recomienda=df.sample(5000)\n",
    "peli_recomienda=peli_recomienda.reset_index(drop=True)\n",
    "peli_recomienda"
   ]
  },
  {
   "cell_type": "code",
   "execution_count": 17,
   "metadata": {},
   "outputs": [
    {
     "name": "stdout",
     "output_type": "stream",
     "text": [
      "el usuario 12455 ha visto y calificado 144 peliculas\n"
     ]
    },
    {
     "data": {
      "text/html": [
       "<div>\n",
       "<style scoped>\n",
       "    .dataframe tbody tr th:only-of-type {\n",
       "        vertical-align: middle;\n",
       "    }\n",
       "\n",
       "    .dataframe tbody tr th {\n",
       "        vertical-align: top;\n",
       "    }\n",
       "\n",
       "    .dataframe thead th {\n",
       "        text-align: right;\n",
       "    }\n",
       "</style>\n",
       "<table border=\"1\" class=\"dataframe\">\n",
       "  <thead>\n",
       "    <tr style=\"text-align: right;\">\n",
       "      <th></th>\n",
       "      <th>index</th>\n",
       "      <th>user</th>\n",
       "      <th>id</th>\n",
       "      <th>score</th>\n",
       "    </tr>\n",
       "  </thead>\n",
       "  <tbody>\n",
       "    <tr>\n",
       "      <th>0</th>\n",
       "      <td>1212341</td>\n",
       "      <td>12455</td>\n",
       "      <td>hs2245</td>\n",
       "      <td>4.5</td>\n",
       "    </tr>\n",
       "    <tr>\n",
       "      <th>1</th>\n",
       "      <td>1212342</td>\n",
       "      <td>12455</td>\n",
       "      <td>as857</td>\n",
       "      <td>2.5</td>\n",
       "    </tr>\n",
       "    <tr>\n",
       "      <th>2</th>\n",
       "      <td>1212343</td>\n",
       "      <td>12455</td>\n",
       "      <td>as8452</td>\n",
       "      <td>4.5</td>\n",
       "    </tr>\n",
       "    <tr>\n",
       "      <th>3</th>\n",
       "      <td>1212344</td>\n",
       "      <td>12455</td>\n",
       "      <td>ns367</td>\n",
       "      <td>3.5</td>\n",
       "    </tr>\n",
       "    <tr>\n",
       "      <th>4</th>\n",
       "      <td>1212345</td>\n",
       "      <td>12455</td>\n",
       "      <td>hs290</td>\n",
       "      <td>1.5</td>\n",
       "    </tr>\n",
       "    <tr>\n",
       "      <th>...</th>\n",
       "      <td>...</td>\n",
       "      <td>...</td>\n",
       "      <td>...</td>\n",
       "      <td>...</td>\n",
       "    </tr>\n",
       "    <tr>\n",
       "      <th>139</th>\n",
       "      <td>1212480</td>\n",
       "      <td>12455</td>\n",
       "      <td>as8759</td>\n",
       "      <td>5.0</td>\n",
       "    </tr>\n",
       "    <tr>\n",
       "      <th>140</th>\n",
       "      <td>1212481</td>\n",
       "      <td>12455</td>\n",
       "      <td>ns4183</td>\n",
       "      <td>4.5</td>\n",
       "    </tr>\n",
       "    <tr>\n",
       "      <th>141</th>\n",
       "      <td>1212482</td>\n",
       "      <td>12455</td>\n",
       "      <td>ns1420</td>\n",
       "      <td>5.0</td>\n",
       "    </tr>\n",
       "    <tr>\n",
       "      <th>142</th>\n",
       "      <td>1212483</td>\n",
       "      <td>12455</td>\n",
       "      <td>ns1329</td>\n",
       "      <td>4.0</td>\n",
       "    </tr>\n",
       "    <tr>\n",
       "      <th>143</th>\n",
       "      <td>1212484</td>\n",
       "      <td>12455</td>\n",
       "      <td>as5432</td>\n",
       "      <td>3.5</td>\n",
       "    </tr>\n",
       "  </tbody>\n",
       "</table>\n",
       "<p>144 rows × 4 columns</p>\n",
       "</div>"
      ],
      "text/plain": [
       "       index   user      id  score\n",
       "0    1212341  12455  hs2245    4.5\n",
       "1    1212342  12455   as857    2.5\n",
       "2    1212343  12455  as8452    4.5\n",
       "3    1212344  12455   ns367    3.5\n",
       "4    1212345  12455   hs290    1.5\n",
       "..       ...    ...     ...    ...\n",
       "139  1212480  12455  as8759    5.0\n",
       "140  1212481  12455  ns4183    4.5\n",
       "141  1212482  12455  ns1420    5.0\n",
       "142  1212483  12455  ns1329    4.0\n",
       "143  1212484  12455  as5432    3.5\n",
       "\n",
       "[144 rows x 4 columns]"
      ]
     },
     "execution_count": 17,
     "metadata": {},
     "output_type": "execute_result"
    }
   ],
   "source": [
    "#Se valida cuales de la muestra el usuario ya  ha visto\n",
    "\n",
    "usuario_vistas = df_1[df_1['user'] == usuario].reset_index()\n",
    "print(f'el usuario {usuario} ha visto y calificado {len(usuario_vistas)} peliculas')\n",
    "usuario_vistas"
   ]
  },
  {
   "cell_type": "code",
   "execution_count": 18,
   "metadata": {},
   "outputs": [
    {
     "data": {
      "text/html": [
       "<div>\n",
       "<style scoped>\n",
       "    .dataframe tbody tr th:only-of-type {\n",
       "        vertical-align: middle;\n",
       "    }\n",
       "\n",
       "    .dataframe tbody tr th {\n",
       "        vertical-align: top;\n",
       "    }\n",
       "\n",
       "    .dataframe thead th {\n",
       "        text-align: right;\n",
       "    }\n",
       "</style>\n",
       "<table border=\"1\" class=\"dataframe\">\n",
       "  <thead>\n",
       "    <tr style=\"text-align: right;\">\n",
       "      <th></th>\n",
       "      <th>id</th>\n",
       "      <th>title</th>\n",
       "    </tr>\n",
       "  </thead>\n",
       "  <tbody>\n",
       "    <tr>\n",
       "      <th>0</th>\n",
       "      <td>hs2802</td>\n",
       "      <td>bakuman</td>\n",
       "    </tr>\n",
       "    <tr>\n",
       "      <th>1</th>\n",
       "      <td>ns1404</td>\n",
       "      <td>double dad</td>\n",
       "    </tr>\n",
       "    <tr>\n",
       "      <th>2</th>\n",
       "      <td>ns602</td>\n",
       "      <td>the karate kid</td>\n",
       "    </tr>\n",
       "    <tr>\n",
       "      <th>3</th>\n",
       "      <td>ns1187</td>\n",
       "      <td>b: the beginning</td>\n",
       "    </tr>\n",
       "    <tr>\n",
       "      <th>4</th>\n",
       "      <td>ns3610</td>\n",
       "      <td>let's eat 2</td>\n",
       "    </tr>\n",
       "    <tr>\n",
       "      <th>...</th>\n",
       "      <td>...</td>\n",
       "      <td>...</td>\n",
       "    </tr>\n",
       "    <tr>\n",
       "      <th>4995</th>\n",
       "      <td>ns3929</td>\n",
       "      <td>persona</td>\n",
       "    </tr>\n",
       "    <tr>\n",
       "      <th>4996</th>\n",
       "      <td>ns538</td>\n",
       "      <td>terrace house: opening new doors</td>\n",
       "    </tr>\n",
       "    <tr>\n",
       "      <th>4997</th>\n",
       "      <td>as4187</td>\n",
       "      <td>telephone operator</td>\n",
       "    </tr>\n",
       "    <tr>\n",
       "      <th>4998</th>\n",
       "      <td>as6776</td>\n",
       "      <td>kaakum karangal</td>\n",
       "    </tr>\n",
       "    <tr>\n",
       "      <th>4999</th>\n",
       "      <td>as7538</td>\n",
       "      <td>sendero</td>\n",
       "    </tr>\n",
       "  </tbody>\n",
       "</table>\n",
       "<p>4954 rows × 2 columns</p>\n",
       "</div>"
      ],
      "text/plain": [
       "          id                             title\n",
       "0     hs2802                           bakuman\n",
       "1     ns1404                        double dad\n",
       "2      ns602                    the karate kid\n",
       "3     ns1187                  b: the beginning\n",
       "4     ns3610                       let's eat 2\n",
       "...      ...                               ...\n",
       "4995  ns3929                           persona\n",
       "4996   ns538  terrace house: opening new doors\n",
       "4997  as4187                telephone operator\n",
       "4998  as6776                   kaakum karangal\n",
       "4999  as7538                           sendero\n",
       "\n",
       "[4954 rows x 2 columns]"
      ]
     },
     "execution_count": 18,
     "metadata": {},
     "output_type": "execute_result"
    }
   ],
   "source": [
    "# Se elimina del sample de 5000 peliculas que elusuario ha visto\n",
    "\n",
    "peli_recomienda = peli_recomienda[~peli_recomienda['id'].isin(usuario_vistas['id'])]\n",
    "peli_recomienda"
   ]
  },
  {
   "cell_type": "code",
   "execution_count": 19,
   "metadata": {},
   "outputs": [
    {
     "data": {
      "text/html": [
       "<div>\n",
       "<style scoped>\n",
       "    .dataframe tbody tr th:only-of-type {\n",
       "        vertical-align: middle;\n",
       "    }\n",
       "\n",
       "    .dataframe tbody tr th {\n",
       "        vertical-align: top;\n",
       "    }\n",
       "\n",
       "    .dataframe thead th {\n",
       "        text-align: right;\n",
       "    }\n",
       "</style>\n",
       "<table border=\"1\" class=\"dataframe\">\n",
       "  <thead>\n",
       "    <tr style=\"text-align: right;\">\n",
       "      <th></th>\n",
       "      <th>id</th>\n",
       "      <th>title</th>\n",
       "      <th>Esti_Score</th>\n",
       "    </tr>\n",
       "  </thead>\n",
       "  <tbody>\n",
       "    <tr>\n",
       "      <th>3803</th>\n",
       "      <td>as4817</td>\n",
       "      <td>100 days to live</td>\n",
       "      <td>4.021931</td>\n",
       "    </tr>\n",
       "    <tr>\n",
       "      <th>4622</th>\n",
       "      <td>ns4841</td>\n",
       "      <td>bad genius</td>\n",
       "      <td>3.974307</td>\n",
       "    </tr>\n",
       "    <tr>\n",
       "      <th>3164</th>\n",
       "      <td>as5656</td>\n",
       "      <td>knives out</td>\n",
       "      <td>3.940270</td>\n",
       "    </tr>\n",
       "    <tr>\n",
       "      <th>3135</th>\n",
       "      <td>ns887</td>\n",
       "      <td>the mystic river</td>\n",
       "      <td>3.928113</td>\n",
       "    </tr>\n",
       "    <tr>\n",
       "      <th>1281</th>\n",
       "      <td>as2905</td>\n",
       "      <td>carriers</td>\n",
       "      <td>3.907818</td>\n",
       "    </tr>\n",
       "    <tr>\n",
       "      <th>...</th>\n",
       "      <td>...</td>\n",
       "      <td>...</td>\n",
       "      <td>...</td>\n",
       "    </tr>\n",
       "    <tr>\n",
       "      <th>4398</th>\n",
       "      <td>ns3361</td>\n",
       "      <td>tomorrow with you</td>\n",
       "      <td>3.090267</td>\n",
       "    </tr>\n",
       "    <tr>\n",
       "      <th>4674</th>\n",
       "      <td>ns5072</td>\n",
       "      <td>harith iskander: i told you so</td>\n",
       "      <td>3.037076</td>\n",
       "    </tr>\n",
       "    <tr>\n",
       "      <th>332</th>\n",
       "      <td>ds701</td>\n",
       "      <td>coco (in spanish)</td>\n",
       "      <td>3.026944</td>\n",
       "    </tr>\n",
       "    <tr>\n",
       "      <th>2474</th>\n",
       "      <td>as6464</td>\n",
       "      <td>doors wide open</td>\n",
       "      <td>3.021076</td>\n",
       "    </tr>\n",
       "    <tr>\n",
       "      <th>4235</th>\n",
       "      <td>as775</td>\n",
       "      <td>the affairs of cappy ricks</td>\n",
       "      <td>2.978972</td>\n",
       "    </tr>\n",
       "  </tbody>\n",
       "</table>\n",
       "<p>4954 rows × 3 columns</p>\n",
       "</div>"
      ],
      "text/plain": [
       "          id                           title  Esti_Score\n",
       "3803  as4817                100 days to live    4.021931\n",
       "4622  ns4841                      bad genius    3.974307\n",
       "3164  as5656                      knives out    3.940270\n",
       "3135   ns887                the mystic river    3.928113\n",
       "1281  as2905                        carriers    3.907818\n",
       "...      ...                             ...         ...\n",
       "4398  ns3361               tomorrow with you    3.090267\n",
       "4674  ns5072  harith iskander: i told you so    3.037076\n",
       "332    ds701               coco (in spanish)    3.026944\n",
       "2474  as6464                 doors wide open    3.021076\n",
       "4235   as775      the affairs of cappy ricks    2.978972\n",
       "\n",
       "[4954 rows x 3 columns]"
      ]
     },
     "execution_count": 19,
     "metadata": {},
     "output_type": "execute_result"
    }
   ],
   "source": [
    "# Se crea la columna de recomendaciones\n",
    "\n",
    "peli_recomienda['Esti_Score'] = peli_recomienda['id'].map(lambda x: modelo_svd.predict(usuario, x).est)\n",
    "peli_recomienda.sort_values('Esti_Score', ascending=False)"
   ]
  },
  {
   "cell_type": "markdown",
   "metadata": {},
   "source": [
    "## Evaluación del modelo"
   ]
  },
  {
   "cell_type": "code",
   "execution_count": 20,
   "metadata": {},
   "outputs": [],
   "source": [
    "from surprise.model_selection import cross_validate\n",
    "from surprise import accuracy"
   ]
  },
  {
   "cell_type": "code",
   "execution_count": 21,
   "metadata": {},
   "outputs": [
    {
     "name": "stdout",
     "output_type": "stream",
     "text": [
      "RMSE: 0.9576\n"
     ]
    },
    {
     "data": {
      "text/plain": [
       "0.9576124066120139"
      ]
     },
     "execution_count": 21,
     "metadata": {},
     "output_type": "execute_result"
    }
   ],
   "source": [
    "# Se Evalua el modelo desarollado\n",
    "\n",
    "accuracy.rmse(predic)"
   ]
  },
  {
   "cell_type": "code",
   "execution_count": 22,
   "metadata": {},
   "outputs": [
    {
     "name": "stdout",
     "output_type": "stream",
     "text": [
      "Evaluating RMSE, MAE of algorithm SVD on 3 split(s).\n",
      "\n",
      "                  Fold 1  Fold 2  Fold 3  Mean    Std     \n",
      "RMSE (testset)    0.9607  0.9590  0.9615  0.9604  0.0010  \n",
      "MAE (testset)     0.7479  0.7464  0.7506  0.7483  0.0018  \n",
      "Fit time          1.80    1.80    1.83    1.81    0.01    \n",
      "Test time         0.56    0.46    0.44    0.49    0.06    \n"
     ]
    },
    {
     "data": {
      "text/plain": [
       "{'test_rmse': array([0.96071859, 0.95903225, 0.96147443]),\n",
       " 'test_mae': array([0.74789858, 0.74635844, 0.75064856]),\n",
       " 'fit_time': (1.7998828887939453, 1.8031203746795654, 1.8291015625),\n",
       " 'test_time': (0.5635998249053955, 0.4551851749420166, 0.4374864101409912)}"
      ]
     },
     "execution_count": 22,
     "metadata": {},
     "output_type": "execute_result"
    }
   ],
   "source": [
    "cross_validate(modelo_svd, data, measures=['RMSE', 'MAE'], cv = 3, verbose=True)"
   ]
  },
  {
   "cell_type": "markdown",
   "metadata": {},
   "source": [
    "## Optimización de hiperparámetros"
   ]
  },
  {
   "cell_type": "markdown",
   "metadata": {},
   "source": [
    "Se plantea la optimización para todo el dataframe df_1. Sin utilizar el umbral"
   ]
  },
  {
   "cell_type": "code",
   "execution_count": 23,
   "metadata": {},
   "outputs": [
    {
     "name": "stdout",
     "output_type": "stream",
     "text": [
      "1\n",
      "Evaluating RMSE of algorithm SVD on 3 split(s).\n",
      "\n",
      "                  Fold 1  Fold 2  Fold 3  Mean    Std     \n",
      "RMSE (testset)    0.9493  0.9476  0.9517  0.9495  0.0017  \n",
      "Fit time          0.90    0.97    0.80    0.89    0.07    \n",
      "Test time         0.69    0.48    0.56    0.58    0.08    \n",
      "2\n",
      "Evaluating RMSE of algorithm SVD on 3 split(s).\n",
      "\n",
      "                  Fold 1  Fold 2  Fold 3  Mean    Std     \n",
      "RMSE (testset)    0.9541  0.9499  0.9468  0.9503  0.0030  \n",
      "Fit time          0.80    0.75    0.78    0.78    0.02    \n",
      "Test time         0.44    0.61    0.42    0.49    0.08    \n",
      "4\n",
      "Evaluating RMSE of algorithm SVD on 3 split(s).\n",
      "\n",
      "                  Fold 1  Fold 2  Fold 3  Mean    Std     \n",
      "RMSE (testset)    0.9476  0.9491  0.9557  0.9508  0.0035  \n",
      "Fit time          0.78    0.88    0.85    0.83    0.04    \n",
      "Test time         0.44    0.61    0.47    0.51    0.08    \n",
      "8\n",
      "Evaluating RMSE of algorithm SVD on 3 split(s).\n",
      "\n",
      "                  Fold 1  Fold 2  Fold 3  Mean    Std     \n",
      "RMSE (testset)    0.9565  0.9462  0.9509  0.9512  0.0042  \n",
      "Fit time          1.05    1.05    0.95    1.02    0.05    \n",
      "Test time         0.65    0.59    0.66    0.63    0.03    \n",
      "16\n",
      "Evaluating RMSE of algorithm SVD on 3 split(s).\n",
      "\n",
      "                  Fold 1  Fold 2  Fold 3  Mean    Std     \n",
      "RMSE (testset)    0.9495  0.9510  0.9538  0.9514  0.0018  \n",
      "Fit time          0.97    1.07    1.00    1.01    0.04    \n",
      "Test time         0.55    0.48    0.64    0.56    0.06    \n",
      "32\n",
      "Evaluating RMSE of algorithm SVD on 3 split(s).\n",
      "\n",
      "                  Fold 1  Fold 2  Fold 3  Mean    Std     \n",
      "RMSE (testset)    0.9512  0.9533  0.9560  0.9535  0.0020  \n",
      "Fit time          1.13    1.18    1.30    1.20    0.07    \n",
      "Test time         0.48    0.45    0.72    0.55    0.12    \n",
      "64\n",
      "Evaluating RMSE of algorithm SVD on 3 split(s).\n",
      "\n",
      "                  Fold 1  Fold 2  Fold 3  Mean    Std     \n",
      "RMSE (testset)    0.9540  0.9619  0.9560  0.9573  0.0033  \n",
      "Fit time          1.74    1.53    1.66    1.64    0.09    \n",
      "Test time         0.53    0.47    0.65    0.55    0.08    \n",
      "128\n",
      "Evaluating RMSE of algorithm SVD on 3 split(s).\n",
      "\n",
      "                  Fold 1  Fold 2  Fold 3  Mean    Std     \n",
      "RMSE (testset)    0.9612  0.9618  0.9632  0.9621  0.0009  \n",
      "Fit time          2.08    2.18    2.53    2.26    0.19    \n",
      "Test time         0.49    0.49    0.59    0.52    0.05    \n"
     ]
    }
   ],
   "source": [
    "rmse_test_means = []\n",
    "factores = [1,2,4,8,16,32,64,128]\n",
    "\n",
    "for factor in factores:\n",
    "    print(factor)\n",
    "    model = SVD(n_factors=factor)\n",
    "    cv = cross_validate(model, data, measures=['RMSE'], cv = 3, verbose=True)\n",
    "    rmse_test_means.append(np.mean(cv['test_rmse']))"
   ]
  },
  {
   "cell_type": "code",
   "execution_count": 24,
   "metadata": {},
   "outputs": [
    {
     "data": {
      "image/png": "[encoded data removed]",
      "text/plain": [
       "<Figure size 640x480 with 1 Axes>"
      ]
     },
     "metadata": {},
     "output_type": "display_data"
    }
   ],
   "source": [
    "# Tema para los graficos\n",
    "sns.set_style(\"darkgrid\")\n",
    "\n",
    "# Se Plotea el  desempeño según cantidad de factores de SVD\n",
    "\n",
    "plt.scatter(factores, rmse_test_means)\n",
    "plt.xlabel('# de factores')\n",
    "plt.ylabel('Error RMSE')\n",
    "plt.show()"
   ]
  },
  {
   "cell_type": "markdown",
   "metadata": {},
   "source": [
    "## Interfaz Modelo"
   ]
  },
  {
   "cell_type": "code",
   "execution_count": 25,
   "metadata": {},
   "outputs": [],
   "source": [
    "import gradio as gr"
   ]
  },
  {
   "cell_type": "markdown",
   "metadata": {},
   "source": [
    "Se genera funcciones para mejorar la consulta de nuestro modelo. Se desarrolla una interfax para el sistema utilizando  la libreria Gradio\n"
   ]
  },
  {
   "cell_type": "code",
   "execution_count": 26,
   "metadata": {},
   "outputs": [
    {
     "data": {
      "text/plain": [
       "\"Girls' Last Tour\""
      ]
     },
     "execution_count": 26,
     "metadata": {},
     "output_type": "execute_result"
    }
   ],
   "source": [
    "# Creo una función para averiguar el nombre de película \n",
    "\n",
    "def get_titulo_movie(id):\n",
    "    return df[df.id == id].title.iloc[0].title()\n",
    "\n",
    "get_titulo_movie('as2340')\n"
   ]
  },
  {
   "cell_type": "code",
   "execution_count": 27,
   "metadata": {},
   "outputs": [
    {
     "data": {
      "text/plain": [
       "('Recomendada', 4.137028990448383)"
      ]
     },
     "execution_count": 27,
     "metadata": {},
     "output_type": "execute_result"
    }
   ],
   "source": [
    "def movie_recomenda(user, movieid):\n",
    "    # Se obtiene la predicción de la calificación que el usuario le daría a la película\n",
    "    prediction = modelo_svd.predict(user, str(movieid))\n",
    "\n",
    "    # Si la predicción es mayor o igual a 3.7, se recomienda la película\n",
    "    if prediction.est >= 3.7:\n",
    "        return \"Recomendada\", prediction.est\n",
    "    else:\n",
    "        return \"No recomendada\", prediction.est\n",
    "\n",
    "movie_recomenda(1,'ns65')    "
   ]
  },
  {
   "cell_type": "code",
   "execution_count": 28,
   "metadata": {},
   "outputs": [],
   "source": [
    "# Se unifica las dos funciones \n",
    "\n",
    "def functions(userid, id):\n",
    "    recommended, score = movie_recomenda(userid, id)\n",
    "    title = get_titulo_movie(id)\n",
    "    return (recommended, score, title)"
   ]
  },
  {
   "cell_type": "code",
   "execution_count": 30,
   "metadata": {},
   "outputs": [
    {
     "name": "stdout",
     "output_type": "stream",
     "text": [
      "Running on local URL:  http://127.0.0.1:7861\n",
      "Running on public URL: https://e6a43a4973ab65d44d.gradio.live\n",
      "\n",
      "This share link expires in 72 hours. For free permanent hosting and GPU upgrades (NEW!), check out Spaces: https://huggingface.co/spaces\n"
     ]
    },
    {
     "data": {
      "text/html": [
       "<div><iframe src=\"https://e6a43a4973ab65d44d.gradio.live\" width=\"100%\" height=\"500\" allow=\"autoplay; camera; microphone; clipboard-read; clipboard-write;\" frameborder=\"0\" allowfullscreen></iframe></div>"
      ],
      "text/plain": [
       "<IPython.core.display.HTML object>"
      ]
     },
     "metadata": {},
     "output_type": "display_data"
    },
    {
     "data": {
      "text/plain": []
     },
     "execution_count": 30,
     "metadata": {},
     "output_type": "execute_result"
    }
   ],
   "source": [
    "title = str(\"Recomendación de movies/series\")\n",
    "\n",
    "with gr.Blocks(title= title) as demo:\n",
    "    text = gr.components.HTML(\"\"\"<h1>Modelo de recomendación de películas</h1>\"\"\")\n",
    "    userid = gr.Number(label=\"id de usuario\")\n",
    "    id = gr.Textbox(label=\"id de la película\")\n",
    "    get_recommendation_btn = gr.Button(\"La película seleccionada es:\")\n",
    "    title = gr.Textbox(label = \"Nombre de la película:\")\n",
    "    output = gr.Textbox(label=\"¿La película seleccionada es recomendada para tí?\")\n",
    "    score = gr.Textbox(label=\"Puntaje:\")\n",
    "    get_recommendation_btn.click(fn=functions, inputs=[userid,id], outputs=[output, score, title])\n",
    "\n",
    "demo.launch(share=True)"
   ]
  }
 ],
 "metadata": {
  "kernelspec": {
   "display_name": "Python 3 (ipykernel)",
   "language": "python",
   "name": "python3"
  },
  "language_info": {
   "codemirror_mode": {
    "name": "ipython",
    "version": 3
   },
   "file_extension": ".py",
   "mimetype": "text/x-python",
   "name": "python",
   "nbconvert_exporter": "python",
   "pygments_lexer": "ipython3",
   "version": "3.9.13"
  }
 },
 "nbformat": 4,
 "nbformat_minor": 2
}
