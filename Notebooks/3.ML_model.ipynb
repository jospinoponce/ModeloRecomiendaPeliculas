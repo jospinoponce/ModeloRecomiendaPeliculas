{
 "cells": [
  {
   "cell_type": "code",
   "execution_count": 222,
   "metadata": {},
   "outputs": [],
   "source": [
    "import pandas as pd\n",
    "import numpy as np\n",
    "import seaborn as sns\n",
    "import matplotlib.pyplot as plt\n",
    "from surprise import Dataset, Reader, SVD\n",
    "from surprise.model_selection import train_test_split"
   ]
  },
  {
   "cell_type": "code",
   "execution_count": 184,
   "metadata": {},
   "outputs": [],
   "source": [
    "# se importan los datasets\n",
    "\n",
    "df_1=pd.read_parquet(\"../Datasets/df_1.parquet\")\n",
    "df=pd.read_csv(\"../Datasets/df.csv\")"
   ]
  },
  {
   "attachments": {},
   "cell_type": "markdown",
   "metadata": {},
   "source": [
    "## Datasets"
   ]
  },
  {
   "cell_type": "code",
   "execution_count": 99,
   "metadata": {},
   "outputs": [
    {
     "data": {
      "text/html": [
       "<div>\n",
       "<style scoped>\n",
       "    .dataframe tbody tr th:only-of-type {\n",
       "        vertical-align: middle;\n",
       "    }\n",
       "\n",
       "    .dataframe tbody tr th {\n",
       "        vertical-align: top;\n",
       "    }\n",
       "\n",
       "    .dataframe thead th {\n",
       "        text-align: right;\n",
       "    }\n",
       "</style>\n",
       "<table border=\"1\" class=\"dataframe\">\n",
       "  <thead>\n",
       "    <tr style=\"text-align: right;\">\n",
       "      <th></th>\n",
       "      <th>id</th>\n",
       "      <th>show_id</th>\n",
       "      <th>type</th>\n",
       "      <th>title</th>\n",
       "      <th>director</th>\n",
       "      <th>cast</th>\n",
       "      <th>country</th>\n",
       "      <th>date_added</th>\n",
       "      <th>release_year</th>\n",
       "      <th>rating</th>\n",
       "      <th>listed_in</th>\n",
       "      <th>description</th>\n",
       "      <th>plataforma</th>\n",
       "      <th>duration_int</th>\n",
       "      <th>duration_type</th>\n",
       "    </tr>\n",
       "  </thead>\n",
       "  <tbody>\n",
       "    <tr>\n",
       "      <th>0</th>\n",
       "      <td>as1</td>\n",
       "      <td>s1</td>\n",
       "      <td>movie</td>\n",
       "      <td>the grand seduction</td>\n",
       "      <td>don mckellar</td>\n",
       "      <td>brendan gleeson, taylor kitsch, gordon pinsent</td>\n",
       "      <td>canada</td>\n",
       "      <td>2021-03-30</td>\n",
       "      <td>2014</td>\n",
       "      <td>r</td>\n",
       "      <td>comedy</td>\n",
       "      <td>a small fishing village must procure a local d...</td>\n",
       "      <td>amazon</td>\n",
       "      <td>113.0</td>\n",
       "      <td>min</td>\n",
       "    </tr>\n",
       "    <tr>\n",
       "      <th>1</th>\n",
       "      <td>as2</td>\n",
       "      <td>s2</td>\n",
       "      <td>movie</td>\n",
       "      <td>take care good night</td>\n",
       "      <td>girish joshi</td>\n",
       "      <td>mahesh manjrekar, abhay mahajan, sachin khedekar</td>\n",
       "      <td>india</td>\n",
       "      <td>2021-03-30</td>\n",
       "      <td>2018</td>\n",
       "      <td>13+</td>\n",
       "      <td>tv shows</td>\n",
       "      <td>a metro family decides to fight a cyber crimin...</td>\n",
       "      <td>amazon</td>\n",
       "      <td>110.0</td>\n",
       "      <td>min</td>\n",
       "    </tr>\n",
       "  </tbody>\n",
       "</table>\n",
       "</div>"
      ],
      "text/plain": [
       "    id show_id   type                 title      director  \\\n",
       "0  as1      s1  movie   the grand seduction  don mckellar   \n",
       "1  as2      s2  movie  take care good night  girish joshi   \n",
       "\n",
       "                                               cast country  date_added  \\\n",
       "0    brendan gleeson, taylor kitsch, gordon pinsent  canada  2021-03-30   \n",
       "1  mahesh manjrekar, abhay mahajan, sachin khedekar   india  2021-03-30   \n",
       "\n",
       "   release_year rating listed_in  \\\n",
       "0          2014      r    comedy   \n",
       "1          2018    13+  tv shows   \n",
       "\n",
       "                                         description plataforma  duration_int  \\\n",
       "0  a small fishing village must procure a local d...     amazon         113.0   \n",
       "1  a metro family decides to fight a cyber crimin...     amazon         110.0   \n",
       "\n",
       "  duration_type  \n",
       "0           min  \n",
       "1           min  "
      ]
     },
     "execution_count": 99,
     "metadata": {},
     "output_type": "execute_result"
    }
   ],
   "source": [
    "# Datasets de las plataformas\n",
    "df.head(2)"
   ]
  },
  {
   "cell_type": "code",
   "execution_count": 185,
   "metadata": {},
   "outputs": [
    {
     "data": {
      "text/html": [
       "<div>\n",
       "<style scoped>\n",
       "    .dataframe tbody tr th:only-of-type {\n",
       "        vertical-align: middle;\n",
       "    }\n",
       "\n",
       "    .dataframe tbody tr th {\n",
       "        vertical-align: top;\n",
       "    }\n",
       "\n",
       "    .dataframe thead th {\n",
       "        text-align: right;\n",
       "    }\n",
       "</style>\n",
       "<table border=\"1\" class=\"dataframe\">\n",
       "  <thead>\n",
       "    <tr style=\"text-align: right;\">\n",
       "      <th></th>\n",
       "      <th>id</th>\n",
       "      <th>title</th>\n",
       "    </tr>\n",
       "  </thead>\n",
       "  <tbody>\n",
       "    <tr>\n",
       "      <th>0</th>\n",
       "      <td>as1</td>\n",
       "      <td>the grand seduction</td>\n",
       "    </tr>\n",
       "    <tr>\n",
       "      <th>1</th>\n",
       "      <td>as2</td>\n",
       "      <td>take care good night</td>\n",
       "    </tr>\n",
       "    <tr>\n",
       "      <th>2</th>\n",
       "      <td>as3</td>\n",
       "      <td>secrets of deception</td>\n",
       "    </tr>\n",
       "    <tr>\n",
       "      <th>3</th>\n",
       "      <td>as4</td>\n",
       "      <td>pink: staying true</td>\n",
       "    </tr>\n",
       "    <tr>\n",
       "      <th>4</th>\n",
       "      <td>as5</td>\n",
       "      <td>monster maker</td>\n",
       "    </tr>\n",
       "    <tr>\n",
       "      <th>...</th>\n",
       "      <td>...</td>\n",
       "      <td>...</td>\n",
       "    </tr>\n",
       "    <tr>\n",
       "      <th>22993</th>\n",
       "      <td>hs3069</td>\n",
       "      <td>star trek: the original series</td>\n",
       "    </tr>\n",
       "    <tr>\n",
       "      <th>22994</th>\n",
       "      <td>hs3070</td>\n",
       "      <td>star trek: voyager</td>\n",
       "    </tr>\n",
       "    <tr>\n",
       "      <th>22995</th>\n",
       "      <td>hs3071</td>\n",
       "      <td>the fades</td>\n",
       "    </tr>\n",
       "    <tr>\n",
       "      <th>22996</th>\n",
       "      <td>hs3072</td>\n",
       "      <td>the twilight zone</td>\n",
       "    </tr>\n",
       "    <tr>\n",
       "      <th>22997</th>\n",
       "      <td>hs3073</td>\n",
       "      <td>tokyo magnitude 8.0</td>\n",
       "    </tr>\n",
       "  </tbody>\n",
       "</table>\n",
       "<p>22998 rows × 2 columns</p>\n",
       "</div>"
      ],
      "text/plain": [
       "           id                           title\n",
       "0         as1             the grand seduction\n",
       "1         as2            take care good night\n",
       "2         as3            secrets of deception\n",
       "3         as4              pink: staying true\n",
       "4         as5                   monster maker\n",
       "...       ...                             ...\n",
       "22993  hs3069  star trek: the original series\n",
       "22994  hs3070              star trek: voyager\n",
       "22995  hs3071                       the fades\n",
       "22996  hs3072               the twilight zone\n",
       "22997  hs3073             tokyo magnitude 8.0\n",
       "\n",
       "[22998 rows x 2 columns]"
      ]
     },
     "execution_count": 185,
     "metadata": {},
     "output_type": "execute_result"
    }
   ],
   "source": [
    "df=df[['id', 'title']]\n",
    "df"
   ]
  },
  {
   "cell_type": "code",
   "execution_count": 203,
   "metadata": {},
   "outputs": [
    {
     "data": {
      "text/html": [
       "<div>\n",
       "<style scoped>\n",
       "    .dataframe tbody tr th:only-of-type {\n",
       "        vertical-align: middle;\n",
       "    }\n",
       "\n",
       "    .dataframe tbody tr th {\n",
       "        vertical-align: top;\n",
       "    }\n",
       "\n",
       "    .dataframe thead th {\n",
       "        text-align: right;\n",
       "    }\n",
       "</style>\n",
       "<table border=\"1\" class=\"dataframe\">\n",
       "  <thead>\n",
       "    <tr style=\"text-align: right;\">\n",
       "      <th></th>\n",
       "      <th>user</th>\n",
       "      <th>id</th>\n",
       "      <th>score</th>\n",
       "    </tr>\n",
       "  </thead>\n",
       "  <tbody>\n",
       "    <tr>\n",
       "      <th>0</th>\n",
       "      <td>1</td>\n",
       "      <td>as680</td>\n",
       "      <td>1.0</td>\n",
       "    </tr>\n",
       "    <tr>\n",
       "      <th>1</th>\n",
       "      <td>1</td>\n",
       "      <td>ns2186</td>\n",
       "      <td>4.5</td>\n",
       "    </tr>\n",
       "    <tr>\n",
       "      <th>2</th>\n",
       "      <td>1</td>\n",
       "      <td>hs2381</td>\n",
       "      <td>5.0</td>\n",
       "    </tr>\n",
       "    <tr>\n",
       "      <th>3</th>\n",
       "      <td>1</td>\n",
       "      <td>ns3663</td>\n",
       "      <td>5.0</td>\n",
       "    </tr>\n",
       "  </tbody>\n",
       "</table>\n",
       "</div>"
      ],
      "text/plain": [
       "   user      id  score\n",
       "0     1   as680    1.0\n",
       "1     1  ns2186    4.5\n",
       "2     1  hs2381    5.0\n",
       "3     1  ns3663    5.0"
      ]
     },
     "execution_count": 203,
     "metadata": {},
     "output_type": "execute_result"
    }
   ],
   "source": [
    "# Dataset de los scores a las peliculas/series \n",
    "\n",
    "df_1.head(4)"
   ]
  },
  {
   "cell_type": "code",
   "execution_count": 186,
   "metadata": {},
   "outputs": [
    {
     "data": {
      "text/html": [
       "<div>\n",
       "<style scoped>\n",
       "    .dataframe tbody tr th:only-of-type {\n",
       "        vertical-align: middle;\n",
       "    }\n",
       "\n",
       "    .dataframe tbody tr th {\n",
       "        vertical-align: top;\n",
       "    }\n",
       "\n",
       "    .dataframe thead th {\n",
       "        text-align: right;\n",
       "    }\n",
       "</style>\n",
       "<table border=\"1\" class=\"dataframe\">\n",
       "  <thead>\n",
       "    <tr style=\"text-align: right;\">\n",
       "      <th></th>\n",
       "      <th>user</th>\n",
       "      <th>id</th>\n",
       "      <th>score</th>\n",
       "    </tr>\n",
       "  </thead>\n",
       "  <tbody>\n",
       "    <tr>\n",
       "      <th>0</th>\n",
       "      <td>1</td>\n",
       "      <td>as680</td>\n",
       "      <td>1.0</td>\n",
       "    </tr>\n",
       "    <tr>\n",
       "      <th>1</th>\n",
       "      <td>1</td>\n",
       "      <td>ns2186</td>\n",
       "      <td>4.5</td>\n",
       "    </tr>\n",
       "    <tr>\n",
       "      <th>2</th>\n",
       "      <td>1</td>\n",
       "      <td>hs2381</td>\n",
       "      <td>5.0</td>\n",
       "    </tr>\n",
       "    <tr>\n",
       "      <th>3</th>\n",
       "      <td>1</td>\n",
       "      <td>ns3663</td>\n",
       "      <td>5.0</td>\n",
       "    </tr>\n",
       "    <tr>\n",
       "      <th>4</th>\n",
       "      <td>1</td>\n",
       "      <td>as9500</td>\n",
       "      <td>5.0</td>\n",
       "    </tr>\n",
       "    <tr>\n",
       "      <th>...</th>\n",
       "      <td>...</td>\n",
       "      <td>...</td>\n",
       "      <td>...</td>\n",
       "    </tr>\n",
       "    <tr>\n",
       "      <th>11024284</th>\n",
       "      <td>124380</td>\n",
       "      <td>ns5272</td>\n",
       "      <td>4.5</td>\n",
       "    </tr>\n",
       "    <tr>\n",
       "      <th>11024285</th>\n",
       "      <td>124380</td>\n",
       "      <td>ns5492</td>\n",
       "      <td>2.5</td>\n",
       "    </tr>\n",
       "    <tr>\n",
       "      <th>11024286</th>\n",
       "      <td>124380</td>\n",
       "      <td>hs305</td>\n",
       "      <td>3.5</td>\n",
       "    </tr>\n",
       "    <tr>\n",
       "      <th>11024287</th>\n",
       "      <td>124380</td>\n",
       "      <td>ns7881</td>\n",
       "      <td>4.5</td>\n",
       "    </tr>\n",
       "    <tr>\n",
       "      <th>11024288</th>\n",
       "      <td>124380</td>\n",
       "      <td>as883</td>\n",
       "      <td>1.5</td>\n",
       "    </tr>\n",
       "  </tbody>\n",
       "</table>\n",
       "<p>11005757 rows × 3 columns</p>\n",
       "</div>"
      ],
      "text/plain": [
       "            user      id  score\n",
       "0              1   as680    1.0\n",
       "1              1  ns2186    4.5\n",
       "2              1  hs2381    5.0\n",
       "3              1  ns3663    5.0\n",
       "4              1  as9500    5.0\n",
       "...          ...     ...    ...\n",
       "11024284  124380  ns5272    4.5\n",
       "11024285  124380  ns5492    2.5\n",
       "11024286  124380   hs305    3.5\n",
       "11024287  124380  ns7881    4.5\n",
       "11024288  124380   as883    1.5\n",
       "\n",
       "[11005757 rows x 3 columns]"
      ]
     },
     "execution_count": 186,
     "metadata": {},
     "output_type": "execute_result"
    }
   ],
   "source": [
    "# Se elimina la variable 'year_scored' del dataframe\n",
    "\n",
    "df_1=df_1[['user', 'id', 'score']]\n",
    "df_1"
   ]
  },
  {
   "attachments": {},
   "cell_type": "markdown",
   "metadata": {},
   "source": [
    "## Modelo"
   ]
  },
  {
   "attachments": {},
   "cell_type": "markdown",
   "metadata": {},
   "source": [
    "Se lee y analiza el conjuntos de datos de las calificaciones. La escala de calificación se establece en un mínimo de 0.5 y un máximo de 5, con incrementos de 0.5 unidades.<br>\n",
    "Por el tamaño del dataset, se genera un umbral. "
   ]
  },
  {
   "cell_type": "code",
   "execution_count": 187,
   "metadata": {},
   "outputs": [],
   "source": [
    "# Se modela df_1 con el total de los valores de score. \n",
    "# Se establece un limite de 100000 datos para df_1. \n",
    "\n",
    "lim = 100000 \n",
    "\n",
    "reader = Reader(rating_scale=(0.5,5))\n",
    "\n",
    "data = Dataset.load_from_df(df_1[:lim], reader)"
   ]
  },
  {
   "cell_type": "code",
   "execution_count": 188,
   "metadata": {},
   "outputs": [],
   "source": [
    "# se separa los datos\n",
    "\n",
    "trainset, testset = train_test_split(data, test_size=0.25)"
   ]
  },
  {
   "cell_type": "code",
   "execution_count": 189,
   "metadata": {},
   "outputs": [
    {
     "data": {
      "text/plain": [
       "<surprise.prediction_algorithms.matrix_factorization.SVD at 0x217c7414700>"
      ]
     },
     "execution_count": 189,
     "metadata": {},
     "output_type": "execute_result"
    }
   ],
   "source": [
    "# Se instancia y se entrena el modelo SVD \n",
    "\n",
    "modelo_svd = SVD()\n",
    "\n",
    "# Se entrena el modelo\n",
    "\n",
    "modelo_svd.fit(trainset)"
   ]
  },
  {
   "cell_type": "code",
   "execution_count": 190,
   "metadata": {},
   "outputs": [],
   "source": [
    "# Se realiza una predicción con los datos testeados\n",
    "\n",
    "predic = modelo_svd.test(testset)"
   ]
  },
  {
   "attachments": {},
   "cell_type": "markdown",
   "metadata": {},
   "source": [
    "## Predicción a usuario"
   ]
  },
  {
   "cell_type": "code",
   "execution_count": 191,
   "metadata": {},
   "outputs": [
    {
     "name": "stdout",
     "output_type": "stream",
     "text": [
      "user: 66258      item: ds1370     r_ui = 4.00   est = 3.52   {'was_impossible': False}\n"
     ]
    },
    {
     "data": {
      "text/plain": [
       "Prediction(uid='66258', iid='ds1370', r_ui=4, est=3.5183912081326625, details={'was_impossible': False})"
      ]
     },
     "execution_count": 191,
     "metadata": {},
     "output_type": "execute_result"
    }
   ],
   "source": [
    "# Se realiza una predicción a un id y un score determinado\n",
    "\n",
    "user_id = '66258'\n",
    "movie_id = 'ds1370'\n",
    "r_ui = 4\n",
    "modelo_svd.predict(user_id, movie_id, r_ui=r_ui, verbose=True)"
   ]
  },
  {
   "cell_type": "code",
   "execution_count": 85,
   "metadata": {},
   "outputs": [
    {
     "data": {
      "text/html": [
       "<div>\n",
       "<style scoped>\n",
       "    .dataframe tbody tr th:only-of-type {\n",
       "        vertical-align: middle;\n",
       "    }\n",
       "\n",
       "    .dataframe tbody tr th {\n",
       "        vertical-align: top;\n",
       "    }\n",
       "\n",
       "    .dataframe thead th {\n",
       "        text-align: right;\n",
       "    }\n",
       "</style>\n",
       "<table border=\"1\" class=\"dataframe\">\n",
       "  <thead>\n",
       "    <tr style=\"text-align: right;\">\n",
       "      <th></th>\n",
       "      <th>user</th>\n",
       "      <th>id</th>\n",
       "      <th>score</th>\n",
       "    </tr>\n",
       "  </thead>\n",
       "  <tbody>\n",
       "    <tr>\n",
       "      <th>1212403</th>\n",
       "      <td>12455</td>\n",
       "      <td>ns7618</td>\n",
       "      <td>5.0</td>\n",
       "    </tr>\n",
       "  </tbody>\n",
       "</table>\n",
       "</div>"
      ],
      "text/plain": [
       "          user      id  score\n",
       "1212403  12455  ns7618    5.0"
      ]
     },
     "execution_count": 85,
     "metadata": {},
     "output_type": "execute_result"
    }
   ],
   "source": [
    "# Se toma un usuario aleatorio para hacerle una recomendación\n",
    "\n",
    "user_azar=df_1.sample(1)\n",
    "user_azar"
   ]
  },
  {
   "cell_type": "code",
   "execution_count": 192,
   "metadata": {},
   "outputs": [
    {
     "data": {
      "text/html": [
       "<div>\n",
       "<style scoped>\n",
       "    .dataframe tbody tr th:only-of-type {\n",
       "        vertical-align: middle;\n",
       "    }\n",
       "\n",
       "    .dataframe tbody tr th {\n",
       "        vertical-align: top;\n",
       "    }\n",
       "\n",
       "    .dataframe thead th {\n",
       "        text-align: right;\n",
       "    }\n",
       "</style>\n",
       "<table border=\"1\" class=\"dataframe\">\n",
       "  <thead>\n",
       "    <tr style=\"text-align: right;\">\n",
       "      <th></th>\n",
       "      <th>user</th>\n",
       "      <th>id</th>\n",
       "      <th>score</th>\n",
       "    </tr>\n",
       "  </thead>\n",
       "  <tbody>\n",
       "    <tr>\n",
       "      <th>0</th>\n",
       "      <td>12455</td>\n",
       "      <td>hs2245</td>\n",
       "      <td>4.5</td>\n",
       "    </tr>\n",
       "    <tr>\n",
       "      <th>1</th>\n",
       "      <td>12455</td>\n",
       "      <td>as8452</td>\n",
       "      <td>4.5</td>\n",
       "    </tr>\n",
       "    <tr>\n",
       "      <th>2</th>\n",
       "      <td>12455</td>\n",
       "      <td>ns2942</td>\n",
       "      <td>4.0</td>\n",
       "    </tr>\n",
       "    <tr>\n",
       "      <th>3</th>\n",
       "      <td>12455</td>\n",
       "      <td>ns4141</td>\n",
       "      <td>5.0</td>\n",
       "    </tr>\n",
       "    <tr>\n",
       "      <th>4</th>\n",
       "      <td>12455</td>\n",
       "      <td>as1382</td>\n",
       "      <td>4.5</td>\n",
       "    </tr>\n",
       "    <tr>\n",
       "      <th>...</th>\n",
       "      <td>...</td>\n",
       "      <td>...</td>\n",
       "      <td>...</td>\n",
       "    </tr>\n",
       "    <tr>\n",
       "      <th>119</th>\n",
       "      <td>12455</td>\n",
       "      <td>as1274</td>\n",
       "      <td>5.0</td>\n",
       "    </tr>\n",
       "    <tr>\n",
       "      <th>120</th>\n",
       "      <td>12455</td>\n",
       "      <td>as8759</td>\n",
       "      <td>5.0</td>\n",
       "    </tr>\n",
       "    <tr>\n",
       "      <th>121</th>\n",
       "      <td>12455</td>\n",
       "      <td>ns4183</td>\n",
       "      <td>4.5</td>\n",
       "    </tr>\n",
       "    <tr>\n",
       "      <th>122</th>\n",
       "      <td>12455</td>\n",
       "      <td>ns1420</td>\n",
       "      <td>5.0</td>\n",
       "    </tr>\n",
       "    <tr>\n",
       "      <th>123</th>\n",
       "      <td>12455</td>\n",
       "      <td>ns1329</td>\n",
       "      <td>4.0</td>\n",
       "    </tr>\n",
       "  </tbody>\n",
       "</table>\n",
       "<p>124 rows × 3 columns</p>\n",
       "</div>"
      ],
      "text/plain": [
       "      user      id  score\n",
       "0    12455  hs2245    4.5\n",
       "1    12455  as8452    4.5\n",
       "2    12455  ns2942    4.0\n",
       "3    12455  ns4141    5.0\n",
       "4    12455  as1382    4.5\n",
       "..     ...     ...    ...\n",
       "119  12455  as1274    5.0\n",
       "120  12455  as8759    5.0\n",
       "121  12455  ns4183    4.5\n",
       "122  12455  ns1420    5.0\n",
       "123  12455  ns1329    4.0\n",
       "\n",
       "[124 rows x 3 columns]"
      ]
     },
     "execution_count": 192,
     "metadata": {},
     "output_type": "execute_result"
    }
   ],
   "source": [
    "usuario = 12455\n",
    "\n",
    "rating = 4 # Se toma  películas a las que haya calificado con 4 o 5 estrellas\n",
    "\n",
    "df_user = df_1[(df_1['user'] == usuario) & (df_1['score'] >= rating)]\n",
    "df_user = df_user.reset_index(drop=True)\n",
    "df_user"
   ]
  },
  {
   "cell_type": "code",
   "execution_count": 193,
   "metadata": {},
   "outputs": [
    {
     "name": "stdout",
     "output_type": "stream",
     "text": [
      "Las peliculas que el usuario 12455 calificó por arriba de 4 en el score a 124 películas\n"
     ]
    },
    {
     "data": {
      "text/html": [
       "<div>\n",
       "<style scoped>\n",
       "    .dataframe tbody tr th:only-of-type {\n",
       "        vertical-align: middle;\n",
       "    }\n",
       "\n",
       "    .dataframe tbody tr th {\n",
       "        vertical-align: top;\n",
       "    }\n",
       "\n",
       "    .dataframe thead th {\n",
       "        text-align: right;\n",
       "    }\n",
       "</style>\n",
       "<table border=\"1\" class=\"dataframe\">\n",
       "  <thead>\n",
       "    <tr style=\"text-align: right;\">\n",
       "      <th></th>\n",
       "      <th>user</th>\n",
       "      <th>id</th>\n",
       "      <th>score</th>\n",
       "      <th>title</th>\n",
       "    </tr>\n",
       "  </thead>\n",
       "  <tbody>\n",
       "    <tr>\n",
       "      <th>0</th>\n",
       "      <td>12455</td>\n",
       "      <td>hs2245</td>\n",
       "      <td>4.5</td>\n",
       "      <td>the act</td>\n",
       "    </tr>\n",
       "    <tr>\n",
       "      <th>1</th>\n",
       "      <td>12455</td>\n",
       "      <td>as8452</td>\n",
       "      <td>4.5</td>\n",
       "      <td>a war</td>\n",
       "    </tr>\n",
       "    <tr>\n",
       "      <th>2</th>\n",
       "      <td>12455</td>\n",
       "      <td>ns2942</td>\n",
       "      <td>4.0</td>\n",
       "      <td>locke &amp; key</td>\n",
       "    </tr>\n",
       "    <tr>\n",
       "      <th>3</th>\n",
       "      <td>12455</td>\n",
       "      <td>ns4141</td>\n",
       "      <td>5.0</td>\n",
       "      <td>lego marvel super heroes: guardians of the galaxy</td>\n",
       "    </tr>\n",
       "    <tr>\n",
       "      <th>4</th>\n",
       "      <td>12455</td>\n",
       "      <td>as1382</td>\n",
       "      <td>4.5</td>\n",
       "      <td>paradise canyon - digitally remastered</td>\n",
       "    </tr>\n",
       "    <tr>\n",
       "      <th>...</th>\n",
       "      <td>...</td>\n",
       "      <td>...</td>\n",
       "      <td>...</td>\n",
       "      <td>...</td>\n",
       "    </tr>\n",
       "    <tr>\n",
       "      <th>119</th>\n",
       "      <td>12455</td>\n",
       "      <td>as1274</td>\n",
       "      <td>5.0</td>\n",
       "      <td>power douglas</td>\n",
       "    </tr>\n",
       "    <tr>\n",
       "      <th>120</th>\n",
       "      <td>12455</td>\n",
       "      <td>as8759</td>\n",
       "      <td>5.0</td>\n",
       "      <td>act 2 - title 6</td>\n",
       "    </tr>\n",
       "    <tr>\n",
       "      <th>121</th>\n",
       "      <td>12455</td>\n",
       "      <td>ns4183</td>\n",
       "      <td>4.5</td>\n",
       "      <td>soni</td>\n",
       "    </tr>\n",
       "    <tr>\n",
       "      <th>122</th>\n",
       "      <td>12455</td>\n",
       "      <td>ns1420</td>\n",
       "      <td>5.0</td>\n",
       "      <td>last tango in halifax</td>\n",
       "    </tr>\n",
       "    <tr>\n",
       "      <th>123</th>\n",
       "      <td>12455</td>\n",
       "      <td>ns1329</td>\n",
       "      <td>4.0</td>\n",
       "      <td>crime scene: the vanishing at the cecil hotel</td>\n",
       "    </tr>\n",
       "  </tbody>\n",
       "</table>\n",
       "<p>124 rows × 4 columns</p>\n",
       "</div>"
      ],
      "text/plain": [
       "      user      id  score                                              title\n",
       "0    12455  hs2245    4.5                                            the act\n",
       "1    12455  as8452    4.5                                              a war\n",
       "2    12455  ns2942    4.0                                        locke & key\n",
       "3    12455  ns4141    5.0  lego marvel super heroes: guardians of the galaxy\n",
       "4    12455  as1382    4.5             paradise canyon - digitally remastered\n",
       "..     ...     ...    ...                                                ...\n",
       "119  12455  as1274    5.0                                      power douglas\n",
       "120  12455  as8759    5.0                                    act 2 - title 6\n",
       "121  12455  ns4183    4.5                                               soni\n",
       "122  12455  ns1420    5.0                              last tango in halifax\n",
       "123  12455  ns1329    4.0      crime scene: the vanishing at the cecil hotel\n",
       "\n",
       "[124 rows x 4 columns]"
      ]
     },
     "execution_count": 193,
     "metadata": {},
     "output_type": "execute_result"
    }
   ],
   "source": [
    "# se crea un dataframe con  el id pelicula y el titulo de df\n",
    "\n",
    "df_pelicula = df\n",
    "\n",
    "# Se une los dos dataframe por el id para ver el nombre de la id de la pelicula.\n",
    "\n",
    "df_user=pd.merge(df_user,df_pelicula,how='inner',on='id') \n",
    "\n",
    "print (f'Las peliculas que el usuario {usuario} calificó por arriba de 4 en el score a {len(df_user)} películas') \n",
    "df_user"
   ]
  },
  {
   "attachments": {},
   "cell_type": "markdown",
   "metadata": {},
   "source": [
    "Se crea un sample de 5000 películas para recomendar al usuario."
   ]
  },
  {
   "cell_type": "code",
   "execution_count": 194,
   "metadata": {},
   "outputs": [
    {
     "data": {
      "text/html": [
       "<div>\n",
       "<style scoped>\n",
       "    .dataframe tbody tr th:only-of-type {\n",
       "        vertical-align: middle;\n",
       "    }\n",
       "\n",
       "    .dataframe tbody tr th {\n",
       "        vertical-align: top;\n",
       "    }\n",
       "\n",
       "    .dataframe thead th {\n",
       "        text-align: right;\n",
       "    }\n",
       "</style>\n",
       "<table border=\"1\" class=\"dataframe\">\n",
       "  <thead>\n",
       "    <tr style=\"text-align: right;\">\n",
       "      <th></th>\n",
       "      <th>id</th>\n",
       "      <th>title</th>\n",
       "    </tr>\n",
       "  </thead>\n",
       "  <tbody>\n",
       "    <tr>\n",
       "      <th>0</th>\n",
       "      <td>as4656</td>\n",
       "      <td>tom segura: completely normal</td>\n",
       "    </tr>\n",
       "    <tr>\n",
       "      <th>1</th>\n",
       "      <td>hs1003</td>\n",
       "      <td>hello, my name is doris</td>\n",
       "    </tr>\n",
       "    <tr>\n",
       "      <th>2</th>\n",
       "      <td>as7727</td>\n",
       "      <td>karma cartel</td>\n",
       "    </tr>\n",
       "    <tr>\n",
       "      <th>3</th>\n",
       "      <td>hs2023</td>\n",
       "      <td>looking for alaska</td>\n",
       "    </tr>\n",
       "    <tr>\n",
       "      <th>4</th>\n",
       "      <td>ns4242</td>\n",
       "      <td>secrets in the hot spring</td>\n",
       "    </tr>\n",
       "    <tr>\n",
       "      <th>...</th>\n",
       "      <td>...</td>\n",
       "      <td>...</td>\n",
       "    </tr>\n",
       "    <tr>\n",
       "      <th>4995</th>\n",
       "      <td>as8188</td>\n",
       "      <td>street dogs of south central</td>\n",
       "    </tr>\n",
       "    <tr>\n",
       "      <th>4996</th>\n",
       "      <td>ds850</td>\n",
       "      <td>disney's recess</td>\n",
       "    </tr>\n",
       "    <tr>\n",
       "      <th>4997</th>\n",
       "      <td>as5304</td>\n",
       "      <td>bachna ae haseeno</td>\n",
       "    </tr>\n",
       "    <tr>\n",
       "      <th>4998</th>\n",
       "      <td>as4343</td>\n",
       "      <td>babybus - nursery rhymes &amp; kids songs (volume 1)</td>\n",
       "    </tr>\n",
       "    <tr>\n",
       "      <th>4999</th>\n",
       "      <td>as8583</td>\n",
       "      <td>i walk the line</td>\n",
       "    </tr>\n",
       "  </tbody>\n",
       "</table>\n",
       "<p>5000 rows × 2 columns</p>\n",
       "</div>"
      ],
      "text/plain": [
       "          id                                             title\n",
       "0     as4656                     tom segura: completely normal\n",
       "1     hs1003                           hello, my name is doris\n",
       "2     as7727                                      karma cartel\n",
       "3     hs2023                                looking for alaska\n",
       "4     ns4242                         secrets in the hot spring\n",
       "...      ...                                               ...\n",
       "4995  as8188                      street dogs of south central\n",
       "4996   ds850                                   disney's recess\n",
       "4997  as5304                                 bachna ae haseeno\n",
       "4998  as4343  babybus - nursery rhymes & kids songs (volume 1)\n",
       "4999  as8583                                   i walk the line\n",
       "\n",
       "[5000 rows x 2 columns]"
      ]
     },
     "execution_count": 194,
     "metadata": {},
     "output_type": "execute_result"
    }
   ],
   "source": [
    "# Muestra de 5000 peliculas\n",
    "\n",
    "peli_recomienda=df.sample(5000)\n",
    "peli_recomienda=peli_recomienda.reset_index(drop=True)\n",
    "peli_recomienda"
   ]
  },
  {
   "cell_type": "code",
   "execution_count": 195,
   "metadata": {},
   "outputs": [
    {
     "name": "stdout",
     "output_type": "stream",
     "text": [
      "el usuario 12455 ha visto y calificado 144 peliculas\n"
     ]
    },
    {
     "data": {
      "text/html": [
       "<div>\n",
       "<style scoped>\n",
       "    .dataframe tbody tr th:only-of-type {\n",
       "        vertical-align: middle;\n",
       "    }\n",
       "\n",
       "    .dataframe tbody tr th {\n",
       "        vertical-align: top;\n",
       "    }\n",
       "\n",
       "    .dataframe thead th {\n",
       "        text-align: right;\n",
       "    }\n",
       "</style>\n",
       "<table border=\"1\" class=\"dataframe\">\n",
       "  <thead>\n",
       "    <tr style=\"text-align: right;\">\n",
       "      <th></th>\n",
       "      <th>index</th>\n",
       "      <th>user</th>\n",
       "      <th>id</th>\n",
       "      <th>score</th>\n",
       "    </tr>\n",
       "  </thead>\n",
       "  <tbody>\n",
       "    <tr>\n",
       "      <th>0</th>\n",
       "      <td>1212341</td>\n",
       "      <td>12455</td>\n",
       "      <td>hs2245</td>\n",
       "      <td>4.5</td>\n",
       "    </tr>\n",
       "    <tr>\n",
       "      <th>1</th>\n",
       "      <td>1212342</td>\n",
       "      <td>12455</td>\n",
       "      <td>as857</td>\n",
       "      <td>2.5</td>\n",
       "    </tr>\n",
       "    <tr>\n",
       "      <th>2</th>\n",
       "      <td>1212343</td>\n",
       "      <td>12455</td>\n",
       "      <td>as8452</td>\n",
       "      <td>4.5</td>\n",
       "    </tr>\n",
       "    <tr>\n",
       "      <th>3</th>\n",
       "      <td>1212344</td>\n",
       "      <td>12455</td>\n",
       "      <td>ns367</td>\n",
       "      <td>3.5</td>\n",
       "    </tr>\n",
       "    <tr>\n",
       "      <th>4</th>\n",
       "      <td>1212345</td>\n",
       "      <td>12455</td>\n",
       "      <td>hs290</td>\n",
       "      <td>1.5</td>\n",
       "    </tr>\n",
       "    <tr>\n",
       "      <th>...</th>\n",
       "      <td>...</td>\n",
       "      <td>...</td>\n",
       "      <td>...</td>\n",
       "      <td>...</td>\n",
       "    </tr>\n",
       "    <tr>\n",
       "      <th>139</th>\n",
       "      <td>1212480</td>\n",
       "      <td>12455</td>\n",
       "      <td>as8759</td>\n",
       "      <td>5.0</td>\n",
       "    </tr>\n",
       "    <tr>\n",
       "      <th>140</th>\n",
       "      <td>1212481</td>\n",
       "      <td>12455</td>\n",
       "      <td>ns4183</td>\n",
       "      <td>4.5</td>\n",
       "    </tr>\n",
       "    <tr>\n",
       "      <th>141</th>\n",
       "      <td>1212482</td>\n",
       "      <td>12455</td>\n",
       "      <td>ns1420</td>\n",
       "      <td>5.0</td>\n",
       "    </tr>\n",
       "    <tr>\n",
       "      <th>142</th>\n",
       "      <td>1212483</td>\n",
       "      <td>12455</td>\n",
       "      <td>ns1329</td>\n",
       "      <td>4.0</td>\n",
       "    </tr>\n",
       "    <tr>\n",
       "      <th>143</th>\n",
       "      <td>1212484</td>\n",
       "      <td>12455</td>\n",
       "      <td>as5432</td>\n",
       "      <td>3.5</td>\n",
       "    </tr>\n",
       "  </tbody>\n",
       "</table>\n",
       "<p>144 rows × 4 columns</p>\n",
       "</div>"
      ],
      "text/plain": [
       "       index   user      id  score\n",
       "0    1212341  12455  hs2245    4.5\n",
       "1    1212342  12455   as857    2.5\n",
       "2    1212343  12455  as8452    4.5\n",
       "3    1212344  12455   ns367    3.5\n",
       "4    1212345  12455   hs290    1.5\n",
       "..       ...    ...     ...    ...\n",
       "139  1212480  12455  as8759    5.0\n",
       "140  1212481  12455  ns4183    4.5\n",
       "141  1212482  12455  ns1420    5.0\n",
       "142  1212483  12455  ns1329    4.0\n",
       "143  1212484  12455  as5432    3.5\n",
       "\n",
       "[144 rows x 4 columns]"
      ]
     },
     "execution_count": 195,
     "metadata": {},
     "output_type": "execute_result"
    }
   ],
   "source": [
    "#Se valida cuales de la muestra el usuario ya  ha visto\n",
    "\n",
    "usuario_vistas = df_1[df_1['user'] == usuario].reset_index()\n",
    "print(f'el usuario {usuario} ha visto y calificado {len(usuario_vistas)} peliculas')\n",
    "usuario_vistas"
   ]
  },
  {
   "cell_type": "code",
   "execution_count": 196,
   "metadata": {},
   "outputs": [],
   "source": [
    "# Se elimina del sample de 5000 peliculas que elusuario ha visto\n",
    "\n",
    "peli_recomienda = peli_recomienda[~peli_recomienda['id'].isin(usuario_vistas['id'])]\n",
    "peli_recomienda"
   ]
  },
  {
   "cell_type": "code",
   "execution_count": 201,
   "metadata": {},
   "outputs": [
    {
     "name": "stderr",
     "output_type": "stream",
     "text": [
      "C:\\Users\\Jaime Ospino\\AppData\\Local\\Temp\\ipykernel_10552\\2500838038.py:3: SettingWithCopyWarning: \n",
      "A value is trying to be set on a copy of a slice from a DataFrame.\n",
      "Try using .loc[row_indexer,col_indexer] = value instead\n",
      "\n",
      "See the caveats in the documentation: https://pandas.pydata.org/pandas-docs/stable/user_guide/indexing.html#returning-a-view-versus-a-copy\n",
      "  peli_recomienda['Esti_Score'] = peli_recomienda['id'].map(lambda x: modelo_svd.predict(usuario, x).est)\n"
     ]
    },
    {
     "data": {
      "text/html": [
       "<div>\n",
       "<style scoped>\n",
       "    .dataframe tbody tr th:only-of-type {\n",
       "        vertical-align: middle;\n",
       "    }\n",
       "\n",
       "    .dataframe tbody tr th {\n",
       "        vertical-align: top;\n",
       "    }\n",
       "\n",
       "    .dataframe thead th {\n",
       "        text-align: right;\n",
       "    }\n",
       "</style>\n",
       "<table border=\"1\" class=\"dataframe\">\n",
       "  <thead>\n",
       "    <tr style=\"text-align: right;\">\n",
       "      <th></th>\n",
       "      <th>id</th>\n",
       "      <th>title</th>\n",
       "      <th>Esti_Score</th>\n",
       "    </tr>\n",
       "  </thead>\n",
       "  <tbody>\n",
       "    <tr>\n",
       "      <th>4239</th>\n",
       "      <td>ns2558</td>\n",
       "      <td>scissor seven</td>\n",
       "      <td>3.956458</td>\n",
       "    </tr>\n",
       "    <tr>\n",
       "      <th>2381</th>\n",
       "      <td>ns5249</td>\n",
       "      <td>the lion woman</td>\n",
       "      <td>3.946876</td>\n",
       "    </tr>\n",
       "    <tr>\n",
       "      <th>2481</th>\n",
       "      <td>ns1794</td>\n",
       "      <td>sarah cooper: everything's fine</td>\n",
       "      <td>3.932938</td>\n",
       "    </tr>\n",
       "    <tr>\n",
       "      <th>2038</th>\n",
       "      <td>ns7841</td>\n",
       "      <td>rebelde</td>\n",
       "      <td>3.926853</td>\n",
       "    </tr>\n",
       "    <tr>\n",
       "      <th>2834</th>\n",
       "      <td>as5735</td>\n",
       "      <td>plug love</td>\n",
       "      <td>3.907473</td>\n",
       "    </tr>\n",
       "    <tr>\n",
       "      <th>...</th>\n",
       "      <td>...</td>\n",
       "      <td>...</td>\n",
       "      <td>...</td>\n",
       "    </tr>\n",
       "    <tr>\n",
       "      <th>1690</th>\n",
       "      <td>ds428</td>\n",
       "      <td>disney junior t.o.t.s.: calling all t.o.t.s. (...</td>\n",
       "      <td>3.067504</td>\n",
       "    </tr>\n",
       "    <tr>\n",
       "      <th>828</th>\n",
       "      <td>ns2919</td>\n",
       "      <td>the ghost and the tout</td>\n",
       "      <td>3.053321</td>\n",
       "    </tr>\n",
       "    <tr>\n",
       "      <th>1436</th>\n",
       "      <td>ds701</td>\n",
       "      <td>coco (in spanish)</td>\n",
       "      <td>3.020062</td>\n",
       "    </tr>\n",
       "    <tr>\n",
       "      <th>4595</th>\n",
       "      <td>as4264</td>\n",
       "      <td>15-minute total body tone-up 8.0 workout (with...</td>\n",
       "      <td>3.005325</td>\n",
       "    </tr>\n",
       "    <tr>\n",
       "      <th>2716</th>\n",
       "      <td>as3418</td>\n",
       "      <td>a girl of the limberlost</td>\n",
       "      <td>2.962383</td>\n",
       "    </tr>\n",
       "  </tbody>\n",
       "</table>\n",
       "<p>4967 rows × 3 columns</p>\n",
       "</div>"
      ],
      "text/plain": [
       "          id                                              title  Esti_Score\n",
       "4239  ns2558                                      scissor seven    3.956458\n",
       "2381  ns5249                                     the lion woman    3.946876\n",
       "2481  ns1794                    sarah cooper: everything's fine    3.932938\n",
       "2038  ns7841                                            rebelde    3.926853\n",
       "2834  as5735                                          plug love    3.907473\n",
       "...      ...                                                ...         ...\n",
       "1690   ds428  disney junior t.o.t.s.: calling all t.o.t.s. (...    3.067504\n",
       "828   ns2919                             the ghost and the tout    3.053321\n",
       "1436   ds701                                  coco (in spanish)    3.020062\n",
       "4595  as4264  15-minute total body tone-up 8.0 workout (with...    3.005325\n",
       "2716  as3418                           a girl of the limberlost    2.962383\n",
       "\n",
       "[4967 rows x 3 columns]"
      ]
     },
     "execution_count": 201,
     "metadata": {},
     "output_type": "execute_result"
    }
   ],
   "source": [
    "# Se crea la columna de recomendaciones\n",
    "\n",
    "peli_recomienda['Esti_Score'] = peli_recomienda['id'].map(lambda x: modelo_svd.predict(usuario, x).est)\n",
    "peli_recomienda.sort_values('Esti_Score', ascending=False)"
   ]
  },
  {
   "attachments": {},
   "cell_type": "markdown",
   "metadata": {},
   "source": [
    "## Evaluación del modelo"
   ]
  },
  {
   "cell_type": "code",
   "execution_count": 215,
   "metadata": {},
   "outputs": [],
   "source": [
    "from surprise.model_selection import cross_validate\n",
    "from surprise import accuracy"
   ]
  },
  {
   "cell_type": "code",
   "execution_count": 208,
   "metadata": {},
   "outputs": [
    {
     "name": "stdout",
     "output_type": "stream",
     "text": [
      "RMSE: 0.9582\n"
     ]
    },
    {
     "data": {
      "text/plain": [
       "0.9582141890615571"
      ]
     },
     "execution_count": 208,
     "metadata": {},
     "output_type": "execute_result"
    }
   ],
   "source": [
    "# Se Evalua el modelo desarollado\n",
    "\n",
    "accuracy.rmse(predic)"
   ]
  },
  {
   "cell_type": "code",
   "execution_count": 216,
   "metadata": {},
   "outputs": [
    {
     "name": "stdout",
     "output_type": "stream",
     "text": [
      "Evaluating RMSE, MAE of algorithm SVD on 3 split(s).\n",
      "\n",
      "                  Fold 1  Fold 2  Fold 3  Mean    Std     \n",
      "RMSE (testset)    0.9612  0.9579  0.9624  0.9605  0.0019  \n",
      "MAE (testset)     0.7502  0.7458  0.7490  0.7484  0.0019  \n",
      "Fit time          5.34    4.28    8.96    6.20    2.00    \n",
      "Test time         7.49    2.98    3.62    4.70    1.99    \n"
     ]
    },
    {
     "data": {
      "text/plain": [
       "{'test_rmse': array([0.96123604, 0.95789176, 0.96242575]),\n",
       " 'test_mae': array([0.75024658, 0.7458239 , 0.74902161]),\n",
       " 'fit_time': (5.344351291656494, 4.2825398445129395, 8.958652257919312),\n",
       " 'test_time': (7.492570638656616, 2.9814836978912354, 3.6166622638702393)}"
      ]
     },
     "execution_count": 216,
     "metadata": {},
     "output_type": "execute_result"
    }
   ],
   "source": [
    "cross_validate(modelo_svd, data, measures=['RMSE', 'MAE'], cv = 3, verbose=True)"
   ]
  },
  {
   "attachments": {},
   "cell_type": "markdown",
   "metadata": {},
   "source": [
    "## Optimización de hiperparámetros"
   ]
  },
  {
   "attachments": {},
   "cell_type": "markdown",
   "metadata": {},
   "source": [
    "Se plantea la optimización para todo el dataframe df_1. Sin utilizar el umbral"
   ]
  },
  {
   "cell_type": "code",
   "execution_count": 213,
   "metadata": {},
   "outputs": [
    {
     "name": "stdout",
     "output_type": "stream",
     "text": [
      "1\n",
      "Evaluating RMSE of algorithm SVD on 3 split(s).\n",
      "\n",
      "                  Fold 1  Fold 2  Fold 3  Mean    Std     \n",
      "RMSE (testset)    0.9459  0.9548  0.9475  0.9494  0.0039  \n",
      "Fit time          2.70    1.74    1.86    2.10    0.43    \n",
      "Test time         1.56    7.83    0.98    3.46    3.10    \n",
      "2\n",
      "Evaluating RMSE of algorithm SVD on 3 split(s).\n",
      "\n",
      "                  Fold 1  Fold 2  Fold 3  Mean    Std     \n",
      "RMSE (testset)    0.9594  0.9454  0.9441  0.9496  0.0070  \n",
      "Fit time          2.82    2.29    3.03    2.71    0.31    \n",
      "Test time         1.05    1.75    6.43    3.08    2.39    \n",
      "4\n",
      "Evaluating RMSE of algorithm SVD on 3 split(s).\n",
      "\n",
      "                  Fold 1  Fold 2  Fold 3  Mean    Std     \n",
      "RMSE (testset)    0.9540  0.9502  0.9452  0.9498  0.0036  \n",
      "Fit time          3.21    2.60    1.47    2.43    0.72    \n",
      "Test time         2.00    1.72    1.03    1.58    0.41    \n",
      "8\n",
      "Evaluating RMSE of algorithm SVD on 3 split(s).\n",
      "\n",
      "                  Fold 1  Fold 2  Fold 3  Mean    Std     \n",
      "RMSE (testset)    0.9501  0.9500  0.9530  0.9510  0.0014  \n",
      "Fit time          1.74    2.90    2.65    2.43    0.50    \n",
      "Test time         2.69    2.10    1.77    2.19    0.38    \n",
      "16\n",
      "Evaluating RMSE of algorithm SVD on 3 split(s).\n",
      "\n",
      "                  Fold 1  Fold 2  Fold 3  Mean    Std     \n",
      "RMSE (testset)    0.9566  0.9521  0.9482  0.9523  0.0034  \n",
      "Fit time          2.72    6.77    2.62    4.04    1.93    \n",
      "Test time         2.04    2.33    7.38    3.92    2.45    \n",
      "32\n",
      "Evaluating RMSE of algorithm SVD on 3 split(s).\n",
      "\n",
      "                  Fold 1  Fold 2  Fold 3  Mean    Std     \n",
      "RMSE (testset)    0.9564  0.9505  0.9551  0.9540  0.0025  \n",
      "Fit time          2.85    2.87    4.24    3.32    0.65    \n",
      "Test time         0.90    1.48    1.83    1.40    0.39    \n",
      "64\n",
      "Evaluating RMSE of algorithm SVD on 3 split(s).\n",
      "\n",
      "                  Fold 1  Fold 2  Fold 3  Mean    Std     \n",
      "RMSE (testset)    0.9566  0.9519  0.9605  0.9563  0.0035  \n",
      "Fit time          5.28    5.49    5.53    5.43    0.11    \n",
      "Test time         10.29   2.52    1.85    4.88    3.83    \n",
      "128\n",
      "Evaluating RMSE of algorithm SVD on 3 split(s).\n",
      "\n",
      "                  Fold 1  Fold 2  Fold 3  Mean    Std     \n",
      "RMSE (testset)    0.9617  0.9634  0.9624  0.9625  0.0007  \n",
      "Fit time          6.10    6.70    5.75    6.18    0.39    \n",
      "Test time         2.21    2.07    1.64    1.97    0.24    \n"
     ]
    }
   ],
   "source": [
    "rmse_test_means = []\n",
    "factores = [1,2,4,8,16,32,64,128]\n",
    "\n",
    "for factor in factores:\n",
    "    print(factor)\n",
    "    model = SVD(n_factors=factor)\n",
    "    cv = cross_validate(model, data, measures=['RMSE'], cv = 3, verbose=True)\n",
    "    rmse_test_means.append(np.mean(cv['test_rmse']))"
   ]
  },
  {
   "cell_type": "code",
   "execution_count": 224,
   "metadata": {},
   "outputs": [
    {
     "data": {
      "image/png": "[encoded data removed]",
      "text/plain": [
       "<Figure size 640x480 with 1 Axes>"
      ]
     },
     "metadata": {},
     "output_type": "display_data"
    }
   ],
   "source": [
    "# Tema para los graficos\n",
    "sns.set_style(\"darkgrid\")\n",
    "\n",
    "# Se Plotea el  desempeño según cantidad de factores de SVD\n",
    "\n",
    "plt.scatter(factores, rmse_test_means)\n",
    "plt.xlabel('# de factores')\n",
    "plt.ylabel('Error RMSE')\n",
    "plt.show()"
   ]
  },
  {
   "attachments": {},
   "cell_type": "markdown",
   "metadata": {},
   "source": [
    "## Interfax Modelo"
   ]
  },
  {
   "cell_type": "code",
   "execution_count": 233,
   "metadata": {},
   "outputs": [],
   "source": [
    "import gradio as gr"
   ]
  },
  {
   "attachments": {},
   "cell_type": "markdown",
   "metadata": {},
   "source": [
    "Se genera funcciones para mejorar la consulta de nuestro modelo. Se desarrolla una interfax para el sistema utilizando  la libreria Gradio\n"
   ]
  },
  {
   "cell_type": "code",
   "execution_count": 229,
   "metadata": {},
   "outputs": [
    {
     "data": {
      "text/plain": [
       "('Recomendada', 3.9831670695038652)"
      ]
     },
     "execution_count": 229,
     "metadata": {},
     "output_type": "execute_result"
    }
   ],
   "source": [
    "# Creo una función para averiguar el nombre de película \n",
    "\n",
    "def get_titulo_movie(id):\n",
    "    return df[df.id == id].title.iloc[0].title()\n",
    "\n",
    "get_titulo_movie('as2340')\n"
   ]
  },
  {
   "cell_type": "code",
   "execution_count": 230,
   "metadata": {},
   "outputs": [
    {
     "data": {
      "text/plain": [
       "('Recomendada', 3.9831670695038652)"
      ]
     },
     "execution_count": 230,
     "metadata": {},
     "output_type": "execute_result"
    }
   ],
   "source": [
    "def movie_recomenda(user, movieid):\n",
    "    # Se obtiene la predicción de la calificación que el usuario le daría a la película\n",
    "    prediction = modelo_svd.predict(user, str(movieid))\n",
    "\n",
    "    # Si la predicción es mayor o igual a 3.7, se recomienda la película\n",
    "    if prediction.est >= 3.7:\n",
    "        return \"Recomendada\", prediction.est\n",
    "    else:\n",
    "        return \"No recomendada\", prediction.est\n",
    "\n",
    "movie_recomenda(1,'ns65')    "
   ]
  },
  {
   "cell_type": "code",
   "execution_count": 231,
   "metadata": {},
   "outputs": [],
   "source": [
    "# Se unifica las dos funciones \n",
    "\n",
    "def functions(userid, id):\n",
    "    recommended, score = movie_recomenda(userid, id)\n",
    "    title = get_titulo_movie(id)\n",
    "    return (recommended, score, title)"
   ]
  },
  {
   "cell_type": "code",
   "execution_count": 235,
   "metadata": {},
   "outputs": [
    {
     "name": "stderr",
     "output_type": "stream",
     "text": [
      "C:\\Users\\Jaime Ospino\\AppData\\Roaming\\Python\\Python39\\site-packages\\gradio\\inputs.py:59: UserWarning: Usage of gradio.inputs is deprecated, and will not be supported in the future, please import your component from gradio.components\n",
      "  warnings.warn(\n",
      "C:\\Users\\Jaime Ospino\\AppData\\Roaming\\Python\\Python39\\site-packages\\gradio\\deprecation.py:40: UserWarning: `optional` parameter is deprecated, and it has no effect\n",
      "  warnings.warn(value)\n"
     ]
    },
    {
     "name": "stdout",
     "output_type": "stream",
     "text": [
      "Running on local URL:  http://127.0.0.1:7861\n",
      "Running on public URL: https://641dd2f22d78a5ac6a.gradio.live\n",
      "\n",
      "This share link expires in 72 hours. For free permanent hosting and GPU upgrades (NEW!), check out Spaces: https://huggingface.co/spaces\n"
     ]
    },
    {
     "data": {
      "text/html": [
       "<div><iframe src=\"https://641dd2f22d78a5ac6a.gradio.live\" width=\"100%\" height=\"500\" allow=\"autoplay; camera; microphone; clipboard-read; clipboard-write;\" frameborder=\"0\" allowfullscreen></iframe></div>"
      ],
      "text/plain": [
       "<IPython.core.display.HTML object>"
      ]
     },
     "metadata": {},
     "output_type": "display_data"
    },
    {
     "data": {
      "text/plain": []
     },
     "execution_count": 235,
     "metadata": {},
     "output_type": "execute_result"
    }
   ],
   "source": [
    "title = str(\"Recomendación de movies/series\")\n",
    "\n",
    "with gr.Blocks(title= title) as demo:\n",
    "    text = gr.components.HTML(\"\"\"<h1>Modelo de recomendación de películas</h1>\"\"\")\n",
    "    userid = gr.inputs.Number(label=\"id de usuario\")\n",
    "    id = gr.Textbox(label=\"id de la película\")\n",
    "    get_recommendation_btn = gr.Button(\"La película seleccionada es:\")\n",
    "    title = gr.Textbox(label = \"Nombre de la película:\")\n",
    "    output = gr.Textbox(label=\"¿La película seleccionada es recomendada para tí?\")\n",
    "    score = gr.Textbox(label=\"Puntaje:\")\n",
    "    get_recommendation_btn.click(fn=functions, inputs=[userid,id], outputs=[output, score, title])\n",
    "\n",
    "demo.launch(share=True)"
   ]
  }
 ],
 "metadata": {
  "kernelspec": {
   "display_name": "base",
   "language": "python",
   "name": "python3"
  },
  "language_info": {
   "codemirror_mode": {
    "name": "ipython",
    "version": 3
   },
   "file_extension": ".py",
   "mimetype": "text/x-python",
   "name": "python",
   "nbconvert_exporter": "python",
   "pygments_lexer": "ipython3",
   "version": "3.9.13"
  },
  "orig_nbformat": 4
 },
 "nbformat": 4,
 "nbformat_minor": 2
}
